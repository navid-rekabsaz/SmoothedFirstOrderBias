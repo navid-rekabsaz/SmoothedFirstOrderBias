{
 "cells": [
  {
   "cell_type": "code",
   "execution_count": 1,
   "metadata": {},
   "outputs": [
    {
     "name": "stdout",
     "output_type": "stream",
     "text": [
      "Populating the interactive namespace from numpy and matplotlib\n"
     ]
    }
   ],
   "source": [
    "%pylab inline\n",
    "import matplotlib.pyplot as plt\n",
    "\n"
   ]
  },
  {
   "cell_type": "code",
   "execution_count": 2,
   "metadata": {},
   "outputs": [],
   "source": [
    "import os\n",
    "from scipy.stats import ttest_rel\n",
    "import copy\n",
    "import pickle\n",
    "import pandas as pd\n",
    "import copy\n",
    "\n",
    "from sklearn.preprocessing import MinMaxScaler\n",
    "\n",
    "\n",
    "import numpy as np\n",
    "from numpy import linalg as LA\n",
    "import scipy\n",
    "from sklearn import preprocessing\n",
    "\n",
    "from gensim.models import Word2Vec\n",
    "from gensim import utils\n",
    "from gensim.corpora import Dictionary\n",
    "\n",
    "from scipy.stats.stats import spearmanr\n",
    "from scipy.stats.stats import pearsonr\n",
    "\n",
    "\n",
    "from sklearn.decomposition import PCA"
   ]
  },
  {
   "cell_type": "code",
   "execution_count": 3,
   "metadata": {},
   "outputs": [],
   "source": [
    "we_model_name = \"sg_dim300_min200_win5\"\n",
    "we_vector_size = 300\n",
    "\n",
    "we_model_dir = \"wordembeddings/word2vecgensim/wikipedia/wiki-english-20171001/%s\" % we_model_name\n",
    "\n"
   ]
  },
  {
   "cell_type": "code",
   "execution_count": 4,
   "metadata": {},
   "outputs": [
    {
     "name": "stdout",
     "output_type": "stream",
     "text": [
      "loading done!\n"
     ]
    }
   ],
   "source": [
    "we_model = Word2Vec.load(we_model_dir+'/model.gensim')\n",
    "\n",
    "print ('loading done!')"
   ]
  },
  {
   "cell_type": "code",
   "execution_count": 5,
   "metadata": {},
   "outputs": [
    {
     "data": {
      "text/plain": [
       "197549"
      ]
     },
     "execution_count": 5,
     "metadata": {},
     "output_type": "execute_result"
    }
   ],
   "source": [
    "len(we_model.wv.vocab)"
   ]
  },
  {
   "cell_type": "markdown",
   "metadata": {},
   "source": [
    "### Loading words"
   ]
  },
  {
   "cell_type": "code",
   "execution_count": 6,
   "metadata": {},
   "outputs": [
    {
     "name": "stdout",
     "output_type": "stream",
     "text": [
      "28\n",
      "28\n"
     ]
    }
   ],
   "source": [
    "genderword_tuples = []\n",
    "\n",
    "with open('resources/wordlist_genderspecific.txt') as fr:\n",
    "    for l in fr:\n",
    "        _tuple=l.strip('\\n').split(',')\n",
    "        if _tuple[0] in we_model.wv.vocab:\n",
    "            _idx = we_model.wv.vocab[_tuple[0]].index\n",
    "            genderword_tuples.append((_tuple[0], _tuple[1], _idx))\n",
    "        else:\n",
    "            print (_tuple[0])\n",
    "print (len([x for x in genderword_tuples if x[1]=='f']))\n",
    "print (len([x for x in genderword_tuples if x[1]=='m']))\n",
    "\n"
   ]
  },
  {
   "cell_type": "code",
   "execution_count": null,
   "metadata": {},
   "outputs": [],
   "source": []
  },
  {
   "cell_type": "code",
   "execution_count": 18,
   "metadata": {},
   "outputs": [],
   "source": [
    "labels = {}\n",
    "labels['set1'] = 'Math'\n",
    "labels['set2'] = 'Arts'\n",
    "labels['set3'] = 'Science'\n",
    "\n",
    "terms = {}\n",
    "terms['set1'] = ['math','algebra','geometry','calculus', 'equations','computation','numbers','addition']\n",
    "terms['set2'] = ['poetry','art','dance','literature', 'novel','symphony','drama','sculpture']\n",
    "terms['set3'] = ['science','technology','physics','chemistry', 'Einstein','NASA','experiment','astronomy']\n",
    "\n",
    "[terms['set1'], terms['set2'], terms['set3']] = [[str.lower(term) for term in _terms] for _terms in [terms['set1'], terms['set2'], terms['set3']]]\n"
   ]
  },
  {
   "cell_type": "code",
   "execution_count": null,
   "metadata": {},
   "outputs": [],
   "source": []
  },
  {
   "cell_type": "markdown",
   "metadata": {},
   "source": [
    "## calculating bias"
   ]
  },
  {
   "cell_type": "code",
   "execution_count": 24,
   "metadata": {
    "scrolled": true
   },
   "outputs": [
    {
     "name": "stdout",
     "output_type": "stream",
     "text": [
      "{'mean': {'set1': 0.01854644, 'set2': 0.07771382, 'set3': 0.022503411}, 'biases': {'set1': {'math': 0.07286592, 'algebra': 0.005301168, 'geometry': 0.0019129589, 'calculus': -0.007939991, 'equations': 0.007935947, 'computation': 0.0070613967, 'numbers': 0.017723419, 'addition': 0.043510698}, 'set2': {'poetry': 0.08626373, 'art': 0.06420762, 'dance': 0.14825647, 'literature': 0.066634625, 'novel': 0.10813326, 'symphony': 0.012089878, 'drama': 0.08790605, 'sculpture': 0.04821893}, 'set3': {'science': 0.032286882, 'technology': 0.013874892, 'physics': -0.0024275184, 'chemistry': 0.02002038, 'einstein': 0.019499868, 'nasa': 0.030015156, 'experiment': 0.050463997, 'astronomy': 0.016293637}}, 'threshold': 0.047690045}\n"
     ]
    }
   ],
   "source": [
    "\n",
    "def get_1st_association(target_word, attribute_words):\n",
    "    ctx_vecs = []\n",
    "    for _word in attribute_words:\n",
    "        _idx = we_model.wv.vocab[_word].index\n",
    "        ctx_vecs.append(we_model.trainables.syn1neg[_idx])\n",
    "    ctx_vecs = np.array(ctx_vecs)    \n",
    "    \n",
    "    _vec = we_model.wv[target_word]\n",
    "    associations = scipy.special.expit(np.dot(ctx_vecs, _vec))\n",
    "    association_mean = np.mean(associations)\n",
    "    \n",
    "    return association_mean\n",
    "\n",
    "def get_1st_associations_allwords(attribute_words):\n",
    "    ctx_vecs = []\n",
    "    for _word in attribute_words:\n",
    "        _idx = we_model.wv.vocab[_word].index\n",
    "        ctx_vecs.append(we_model.trainables.syn1neg[_idx])\n",
    "    ctx_vecs = np.array(ctx_vecs)    \n",
    "    \n",
    "    _vecs = we_model.wv.vectors\n",
    "    associations = scipy.special.expit(np.dot(_vecs, ctx_vecs.T))\n",
    "    associations_mean = np.mean(associations, axis=1)\n",
    "    \n",
    "    return associations_mean\n",
    "\n",
    "\n",
    "def get_1st_bias(target_terms, A_terms, B_terms):\n",
    "    \n",
    "    allwords_A_associations = get_1st_associations_allwords(A_terms)\n",
    "    allwords_B_associations = get_1st_associations_allwords(B_terms)\n",
    "    \n",
    "    all_associations = np.concatenate((allwords_A_associations, allwords_B_associations))\n",
    "    scaler = MinMaxScaler(feature_range=(0,1))\n",
    "    scaler.fit(all_associations.reshape(-1, 1)) \n",
    "    \n",
    "    biases = {}\n",
    "    for word in target_terms:\n",
    "        _A_assoc = get_1st_association(word, A_terms)\n",
    "        _B_assoc = get_1st_association(word, B_terms)\n",
    "        _A_assoc = scaler.transform(_A_assoc.reshape(-1, 1))[0,0]\n",
    "        _B_assoc = scaler.transform(_B_assoc.reshape(-1, 1))[0,0]\n",
    "        biases[word] = _A_assoc - _B_assoc\n",
    "    \n",
    "    _th = np.mean(np.abs(allwords_A_associations - allwords_B_associations))\n",
    "    _th = scaler.transform(_th.reshape(-1, 1))[0,0]\n",
    "        \n",
    "    return biases, _th\n",
    "    \n",
    "results_1st = {}\n",
    "_set1_metrics, _th = get_1st_bias(set1_terms, [x[0] for x in genderword_tuples if x[1]=='f'], [x[0] for x in genderword_tuples if x[1]=='m'])\n",
    "_set2_metrics, _th = get_1st_bias(set2_terms, [x[0] for x in genderword_tuples if x[1]=='f'], [x[0] for x in genderword_tuples if x[1]=='m'])\n",
    "_set3_metrics, _th = get_1st_bias(set3_terms, [x[0] for x in genderword_tuples if x[1]=='f'], [x[0] for x in genderword_tuples if x[1]=='m'])\n",
    "\n",
    "\n",
    "results_1st = {'mean':{}, 'biases':{}}\n",
    "results_1st['mean']['set1'] = np.mean(list(_set1_metrics.values()))\n",
    "results_1st['biases']['set1'] = _set1_metrics\n",
    "results_1st['mean']['set2'] = np.mean(list(_set2_metrics.values()))\n",
    "results_1st['biases']['set2'] = _set2_metrics\n",
    "results_1st['mean']['set3'] = np.mean(list(_set3_metrics.values()))\n",
    "results_1st['biases']['set3'] = _set3_metrics\n",
    "\n",
    "\n",
    "results_1st['threshold'] = _th\n",
    "print (results_1st)"
   ]
  },
  {
   "cell_type": "code",
   "execution_count": null,
   "metadata": {},
   "outputs": [],
   "source": []
  },
  {
   "cell_type": "code",
   "execution_count": 25,
   "metadata": {
    "scrolled": true
   },
   "outputs": [
    {
     "name": "stdout",
     "output_type": "stream",
     "text": [
      "{'mean': {'set1': -0.0061573526, 'set2': 0.043226358, 'set3': 0.0016450491}, 'biases': {'set1': {'math': 0.042874858, 'algebra': -0.01902835, 'geometry': -0.0206801, 'calculus': -0.035577446, 'equations': -0.0061583817, 'computation': 0.020831846, 'numbers': -0.026295915, 'addition': -0.0052253306}, 'set2': {'poetry': 0.052357107, 'art': 0.05332002, 'dance': 0.07742286, 'literature': 0.059557647, 'novel': 0.055918783, 'symphony': 0.0012508035, 'drama': 0.03886184, 'sculpture': 0.0071218014}, 'set3': {'science': 0.020898655, 'technology': 0.008845732, 'physics': -0.03624001, 'chemistry': -0.0104650855, 'einstein': -0.0023926198, 'nasa': 0.01606372, 'experiment': 0.021849036, 'astronomy': -0.0053990334}}, 'threshold': 0.036875594}\n"
     ]
    }
   ],
   "source": [
    "\n",
    "def get_2nd_association(target_word, attribute_words):\n",
    "    target_vec = we_model.wv[target_word]\n",
    "    attribute_vecs = np.array([we_model.wv[_w] for _w in attribute_words])\n",
    "    \n",
    "    _dot_v = np.dot(attribute_vecs, target_vec)\n",
    "    _norms = np.multiply(np.linalg.norm(attribute_vecs, axis=1), np.linalg.norm(target_vec))\n",
    "    _associations = np.divide(_dot_v, _norms)\n",
    "    _association_mean = np.mean(_associations)\n",
    "    \n",
    "    return _association_mean\n",
    "\n",
    "def get_2nd_mean_allwords(attribute_words):\n",
    "    vecs = np.array([we_model.wv[_w] for _w in attribute_words])\n",
    "    \n",
    "    vecs_normalized = vecs/np.linalg.norm(vecs, axis=1).reshape(-1,1)\n",
    "    vecs_normalized_allwords = we_model.wv.vectors/np.linalg.norm(we_model.wv.vectors, axis=1).reshape(-1,1)\n",
    "    \n",
    "    associations_allwords = np.dot(vecs_normalized, vecs_normalized_allwords.T)\n",
    "    associations_mean_allwords = np.mean(associations_allwords, axis=0)\n",
    "    \n",
    "    return associations_mean_allwords\n",
    "\n",
    "def get_2nd_bias(target_terms, A_terms, B_terms):\n",
    "    allwords_A_associations = get_2nd_mean_allwords(A_terms)\n",
    "    allwords_B_associations = get_2nd_mean_allwords(B_terms)\n",
    "    \n",
    "    all_associations = np.concatenate((allwords_A_associations, allwords_B_associations))\n",
    "    scaler = MinMaxScaler(feature_range=(0,1))\n",
    "    scaler.fit(all_associations.reshape(-1, 1)) \n",
    "    \n",
    "    _th = np.mean(np.abs(allwords_A_associations - allwords_B_associations))\n",
    "    _th = scaler.transform(_th.reshape(-1, 1))[0,0]\n",
    "        \n",
    "    biases = {}\n",
    "    for word in target_terms:\n",
    "        _A_assoc = get_2nd_association(word, A_terms)\n",
    "        _B_assoc = get_2nd_association(word, B_terms)\n",
    "        _A_assoc = scaler.transform(_A_assoc.reshape(-1, 1))[0,0]\n",
    "        _B_assoc = scaler.transform(_B_assoc.reshape(-1, 1))[0,0]\n",
    "        biases[word] = _A_assoc - _B_assoc\n",
    "\n",
    "    return biases, _th\n",
    "\n",
    "results_2nd = {}\n",
    "_set1_metrics, _th = get_2nd_bias(set1_terms, [x[0] for x in genderword_tuples if x[1]=='f'], [x[0] for x in genderword_tuples if x[1]=='m'])\n",
    "_set2_metrics, _th = get_2nd_bias(set2_terms, [x[0] for x in genderword_tuples if x[1]=='f'], [x[0] for x in genderword_tuples if x[1]=='m'])\n",
    "_set3_metrics, _th = get_2nd_bias(set3_terms, [x[0] for x in genderword_tuples if x[1]=='f'], [x[0] for x in genderword_tuples if x[1]=='m'])\n",
    "\n",
    "\n",
    "results_2nd = {'mean':{}, 'biases':{}}\n",
    "results_2nd['mean']['set1'] = np.mean(list(_set1_metrics.values()))\n",
    "results_2nd['biases']['set1'] = _set1_metrics\n",
    "results_2nd['mean']['set2'] = np.mean(list(_set2_metrics.values()))\n",
    "results_2nd['biases']['set2'] = _set2_metrics\n",
    "results_2nd['mean']['set3'] = np.mean(list(_set3_metrics.values()))\n",
    "results_2nd['biases']['set3'] = _set3_metrics\n",
    "\n",
    "\n",
    "\n",
    "results_2nd['threshold'] = _th\n",
    "print (results_2nd)\n"
   ]
  },
  {
   "cell_type": "code",
   "execution_count": null,
   "metadata": {},
   "outputs": [],
   "source": []
  },
  {
   "cell_type": "code",
   "execution_count": null,
   "metadata": {},
   "outputs": [],
   "source": []
  },
  {
   "cell_type": "code",
   "execution_count": 62,
   "metadata": {},
   "outputs": [
    {
     "data": {
      "image/png": "[encoded data removed]",
      "text/plain": [
       "<Figure size 576x432 with 1 Axes>"
      ]
     },
     "metadata": {
      "needs_background": "light"
     },
     "output_type": "display_data"
    },
    {
     "data": {
      "image/png": "[encoded data removed]",
      "text/plain": [
       "<Figure size 576x432 with 1 Axes>"
      ]
     },
     "metadata": {
      "needs_background": "light"
     },
     "output_type": "display_data"
    },
    {
     "data": {
      "image/png": "[encoded data removed]",
      "text/plain": [
       "<Figure size 576x432 with 1 Axes>"
      ]
     },
     "metadata": {
      "needs_background": "light"
     },
     "output_type": "display_data"
    }
   ],
   "source": [
    "\n",
    "_color_unbiasedarea='#bdbdbd'\n",
    "_color_unbiasedarea2='red'\n",
    "_color_unbiasedborder='black'#'#737373'\n",
    "_color_unbiasedborder2='red'\n",
    "_color_unbiasedpnt='#636363'\n",
    "_color_SG_male='red'\n",
    "_color_eSG_male='black'\n",
    "_color_SG_female='#6baed6'#3182bd\n",
    "_color_eSG_female='#08519c'\n",
    "\n",
    "\n",
    "ZERO_LINE_COLOR = 'lime'\n",
    "FIRST_ORDER_COLOR = 'black'\n",
    "SECOND_ORDER_COLOR = 'red'\n",
    "SHADE_DARKNESS = 0.2\n",
    "XAXIS_LIMIT = 0.2\n",
    "TITLE_FONT_SIZE = 12    \n",
    "LEGEND_SIZE = 14\n",
    "fsize = 24\n",
    "fsize2 = 18\n",
    "_psize = 80 # Marker size\n",
    "\n",
    "\n",
    "\n",
    "threshold_1st = results_1st['threshold']\n",
    "threshold_2nd = results_2nd['threshold']\n",
    "\n",
    "\n",
    "for set_name in ['set1', 'set2', 'set3']:\n",
    "    fig, ax = plt.subplots(1,1, figsize=(8,6))\n",
    "\n",
    "    allterms = []\n",
    "    target_labels = []\n",
    "    biases_1st = []\n",
    "    biases_2nd = []\n",
    "    y_vals = []\n",
    "    X_terms_count = 0\n",
    "\n",
    "    _terms = terms[set_name]\n",
    "    _label = labels[set_name]\n",
    "\n",
    "    biases_1st.extend([results_1st['biases'][set_name][x] for x in _terms])\n",
    "    mean_1st = results_1st['mean'][set_name]\n",
    "\n",
    "    biases_2nd.extend([results_2nd['biases'][set_name][x] for x in _terms])\n",
    "    mean_2nd = results_2nd['mean'][set_name]\n",
    "\n",
    "    y_vals = [i for i in range(1, len(biases_1st) + 1)]\n",
    "    X_terms_count = len(y_vals)\n",
    "\n",
    "    #ax.text(-XAXIS_LIMIT+0.02, y_vals[-1]-1, target_label, size=fsize, bbox=dict(boxstyle=\"square\", fc=\"w\", ec=\"k\"))\n",
    "\n",
    "    ax.scatter(biases_1st, y_vals, marker='o', c=FIRST_ORDER_COLOR, s=_psize, label=r'$WEAM_{1st}$')\n",
    "    ax.scatter(biases_2nd, y_vals, marker='o', c=SECOND_ORDER_COLOR, s=_psize, label=r'$WEAM_{2nd}$')\n",
    "\n",
    "    ax.axvline(threshold_1st, c=FIRST_ORDER_COLOR, linestyle='-.')\n",
    "    ax.axvline(threshold_2nd, color=SECOND_ORDER_COLOR, linestyle='-.')\n",
    "    ax.axvline(-threshold_1st, c=FIRST_ORDER_COLOR, linestyle='-.')\n",
    "    ax.axvline(-threshold_2nd, color=SECOND_ORDER_COLOR, linestyle='-.')\n",
    "\n",
    "    ax.set_xlim(-XAXIS_LIMIT, XAXIS_LIMIT)\n",
    "\n",
    "    for i, txt in enumerate(_terms):\n",
    "        ax.annotate(txt, (biases_1st[i]+0.005, y_vals[i]+0.005), fontsize=fsize2)\n",
    "\n",
    "    #ax.set_xlabel('Inclination (bias): %s (-) vs. %s (+)' % (B_label, A_label), fontsize=fsize)\n",
    "    ax.yaxis.set_ticklabels([])\n",
    "\n",
    "    max_y = max(y_vals) + 2\n",
    "    ax.fill_between([-max(threshold_1st,threshold_2nd),max(threshold_1st,threshold_2nd)],\n",
    "                    [0, 0], [max_y, max_y], facecolor=_color_unbiasedarea, alpha=0.7, interpolate=True)\n",
    "\n",
    "\n",
    "    ax.set_ylim(0, max_y)\n",
    "\n",
    "\n",
    "    ax.xaxis.grid()\n",
    "    ax.legend(loc=2, prop={'size': fsize2})\n",
    "    ax.tick_params(which='major', labelsize=fsize)\n",
    "\n",
    "    plt.show()\n",
    "    fig.tight_layout()\n",
    "    fig.set_size_inches(8, 6)\n",
    "    fig.savefig('plots/gender_bias_%s.pdf' % (labels[set_name]), dpi=100, transparent=True, bbox_inches='tight', pad_inches=0)\n",
    "\n",
    "\n"
   ]
  },
  {
   "cell_type": "code",
   "execution_count": null,
   "metadata": {},
   "outputs": [],
   "source": []
  },
  {
   "cell_type": "code",
   "execution_count": null,
   "metadata": {},
   "outputs": [],
   "source": []
  },
  {
   "cell_type": "code",
   "execution_count": null,
   "metadata": {},
   "outputs": [],
   "source": []
  },
  {
   "cell_type": "code",
   "execution_count": 37,
   "metadata": {},
   "outputs": [
    {
     "data": {
      "text/plain": [
       "[('technology', -0.0050291605),\n",
       " ('science', -0.011388227),\n",
       " ('nasa', -0.013951436)]"
      ]
     },
     "execution_count": 37,
     "metadata": {},
     "output_type": "execute_result"
    }
   ],
   "source": [
    "_lst"
   ]
  },
  {
   "cell_type": "markdown",
   "metadata": {},
   "source": [
    "## Analysis of Bias"
   ]
  },
  {
   "cell_type": "code",
   "execution_count": 45,
   "metadata": {
    "scrolled": false
   },
   "outputs": [
    {
     "name": "stdout",
     "output_type": "stream",
     "text": [
      "[('dance', 0.07083361), ('novel', 0.052214473), ('drama', 0.049044207), ('addition', 0.04873603), ('numbers', 0.044019334)]\n",
      "dance\n",
      "Towards female: ['ballerina', 'dancer', 'danced', 'ballet', 'ballerinas']\n",
      "Towards   male: ['djing', 'sandaime', 'shambhu', 'uday', 'tutelage']\n",
      "Both          : ['ballerina', 'dancer', 'danced', 'ballet', 'ballerinas']\n",
      "\n",
      "novel\n",
      "Towards female: ['feminist', 'heroine', 'angelou', 'lesbian', 'fredrika']\n",
      "Towards   male: ['cormac', 'fyodor', 'dostoyevsky', 'thackeray', 'crichton']\n",
      "Both          : ['feminist', 'heroine', 'angelou', 'lesbian', 'fredrika']\n",
      "\n",
      "drama\n",
      "Towards female: ['actress', 'actresses', 'hye', 'telenovela', 'heroine']\n",
      "Towards   male: ['nadiadwala', 'vijay', 'salmaan', 'ivane', 'debutant']\n",
      "Both          : ['actress', 'actresses', 'hye', 'telenovela', 'heroine']\n",
      "\n",
      "addition\n",
      "Towards female: ['feminist', 'nurses', 'suffrage', 'nursing', 'maternity']\n",
      "Towards   male: ['iwrg', 'builder', 'enlisted', 'cmll', 'estates']\n",
      "Both          : ['feminist', 'nurses', 'suffrage', 'nursing', 'maternity']\n",
      "\n",
      "numbers\n",
      "Towards female: ['nurses', 'midwives', 'nursing', 'nurse', 'mothers']\n",
      "Towards   male: ['compiled', 'horses', 'regiments', 'mustered', 'battalions']\n",
      "Both          : ['nurses', 'midwives', 'nursing', 'nurse', 'mothers']\n",
      "\n"
     ]
    }
   ],
   "source": [
    "#the most important context words contributing to bias using 2nd_mean on rec vectors\n",
    "\n",
    "_lst = []\n",
    "for set_name in ['set1', 'set2', 'set3']:\n",
    "    _lst += [(w, results_1st['biases'][set_name][w] - results_2nd['biases'][set_name][w]) for w in results_2nd['biases'][set_name]]\n",
    "\n",
    "_lst.sort (key=lambda x: x[1], reverse=True)\n",
    "_lst = _lst[:5]\n",
    "print (_lst)\n",
    "\n",
    "for _tuple in _lst:\n",
    "    _target_word = _tuple[0]\n",
    "\n",
    "    _target_vec = scipy.special.expit(np.dot(we_model.wv[_target_word], we_model.trainables.syn1neg.T))\n",
    "\n",
    "    _A_recSG_mean = np.zeros(len(_target_vec))\n",
    "    _A_terms = [x[0] for x in genderword_tuples if x[1]=='f']\n",
    "    for _att_word in _A_terms:\n",
    "        _rec_vec = scipy.special.expit(np.dot(we_model.wv[_att_word], we_model.trainables.syn1neg.T))\n",
    "        _A_recSG_mean += (_target_vec/LA.norm(_target_vec)) * (_rec_vec/LA.norm(_rec_vec))\n",
    "    _A_recSG_mean /= len(_A_terms)\n",
    "\n",
    "    _B_recSG_mean = np.zeros(len(_target_vec))\n",
    "    _B_terms = [x[0] for x in genderword_tuples if x[1]=='m']\n",
    "    for _att_word in _B_terms:\n",
    "        _rec_vec = scipy.special.expit(np.dot(we_model.wv[_att_word], we_model.trainables.syn1neg.T))\n",
    "        _B_recSG_mean += (_target_vec/LA.norm(_target_vec)) * (_rec_vec/LA.norm(_rec_vec))\n",
    "    _B_recSG_mean /= len(_B_terms)\n",
    "\n",
    "    _bias_recSG_mean = _A_recSG_mean - _B_recSG_mean\n",
    "\n",
    "    _mult = list(zip((_bias_recSG_mean), we_model.wv.index2word))\n",
    "\n",
    "    _mult.sort(key=lambda x:x[0], reverse=True)\n",
    "    print (_target_word)\n",
    "    print ('Towards female:', [x[1] for x in _mult][:5])\n",
    "    print ('Towards   male:', [x[1] for x in _mult][::-1][:5])\n",
    "    _mult.sort(key=lambda x:abs(x[0]), reverse=True)\n",
    "    print ('Both          :', [x[1] for x in _mult][:5])\n",
    "    print ()\n",
    "\n",
    "\n",
    "\n"
   ]
  },
  {
   "cell_type": "code",
   "execution_count": null,
   "metadata": {},
   "outputs": [],
   "source": []
  },
  {
   "cell_type": "code",
   "execution_count": null,
   "metadata": {},
   "outputs": [],
   "source": []
  },
  {
   "cell_type": "code",
   "execution_count": null,
   "metadata": {},
   "outputs": [],
   "source": []
  }
 ],
 "metadata": {
  "kernelspec": {
   "display_name": "Python 3",
   "language": "python",
   "name": "python3"
  },
  "language_info": {
   "codemirror_mode": {
    "name": "ipython",
    "version": 3
   },
   "file_extension": ".py",
   "mimetype": "text/x-python",
   "name": "python",
   "nbconvert_exporter": "python",
   "pygments_lexer": "ipython3",
   "version": "3.7.4"
  }
 },
 "nbformat": 4,
 "nbformat_minor": 2
}
