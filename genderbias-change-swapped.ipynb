{
 "cells": [
  {
   "cell_type": "code",
   "execution_count": 2,
   "metadata": {},
   "outputs": [
    {
     "name": "stdout",
     "output_type": "stream",
     "text": [
      "Populating the interactive namespace from numpy and matplotlib\n"
     ]
    }
   ],
   "source": [
    "%pylab inline\n",
    "import matplotlib.pyplot as plt\n"
   ]
  },
  {
   "cell_type": "code",
   "execution_count": 3,
   "metadata": {},
   "outputs": [],
   "source": [
    "import os\n",
    "from scipy.stats import ttest_rel\n",
    "import copy\n",
    "import pickle\n",
    "import pandas as pd\n",
    "import copy\n",
    "\n",
    "import numpy as np\n",
    "from numpy import linalg as LA\n",
    "import scipy\n",
    "from scipy.sparse import csr_matrix\n",
    "from sklearn import preprocessing\n",
    "\n",
    "from gensim.models import Word2Vec\n",
    "from gensim import utils\n",
    "from gensim.corpora import Dictionary\n",
    "from gensim.models.lsimodel import LsiModel\n",
    "\n",
    "from scipy.stats.stats import spearmanr\n",
    "from scipy.stats.stats import pearsonr\n",
    "\n",
    "\n",
    "from sklearn.decomposition import PCA"
   ]
  },
  {
   "cell_type": "code",
   "execution_count": 4,
   "metadata": {},
   "outputs": [],
   "source": [
    "we_model_name = \"sg_dim300_min200_win5\"\n",
    "#we_model_name = \"sg_dim300_max50k_win5\"\n",
    "we_vector_size = 300\n",
    "manipluated_list = ['orig', 'swapped#0.5', 'swapped#1.0']\n",
    "\n",
    "we_model_dirs = {}\n",
    "we_model_dirs['orig'] = \"/data/text/retrieval/wordembeddings/word2vecgensim/wikipedia/wiki-english-20171001/%s\" % we_model_name\n",
    "for x in manipluated_list[1:]:\n",
    "    we_model_dirs[x] = \"/data/text/retrieval/wordembeddings/word2vecgensim/wikipedia/wiki-english-20171001/manipulated-swapped/%s/%s\" % (we_model_name, x)\n",
    "\n",
    "\n"
   ]
  },
  {
   "cell_type": "code",
   "execution_count": 5,
   "metadata": {},
   "outputs": [
    {
     "name": "stdout",
     "output_type": "stream",
     "text": [
      "orig\n",
      "swapped#0.5\n",
      "swapped#1.0\n",
      "loading done!\n"
     ]
    }
   ],
   "source": [
    "we_models = {}\n",
    "\n",
    "for x in manipluated_list:\n",
    "    print (x)\n",
    "    we_models[x] = Word2Vec.load(we_model_dirs[x]+'/model.gensim')\n",
    "\n",
    "print ('loading done!')"
   ]
  },
  {
   "cell_type": "code",
   "execution_count": 6,
   "metadata": {},
   "outputs": [],
   "source": [
    "#power=0.75\n",
    "\n",
    "#we_vocab_count = []\n",
    "#for _wrd in we_models['orig'].wv.index2word:\n",
    "#    we_vocab_count.append(we_models['orig'].wv.vocab[_wrd].count)\n",
    "#we_vocab_count = np.array(we_vocab_count)\n",
    "#we_vocab_count_downsampled = we_vocab_count**power"
   ]
  },
  {
   "cell_type": "code",
   "execution_count": null,
   "metadata": {},
   "outputs": [],
   "source": []
  },
  {
   "cell_type": "code",
   "execution_count": 7,
   "metadata": {},
   "outputs": [
    {
     "name": "stdout",
     "output_type": "stream",
     "text": [
      "orig\n",
      "swapped#0.5\n",
      "swapped#1.0\n"
     ]
    }
   ],
   "source": [
    "#loading E_ctx_vec\n",
    "E_ctx_vec = {}\n",
    "E_wrd_vec = {}\n",
    "for _manip in manipluated_list:\n",
    "    print (_manip)\n",
    "    with open(we_model_dirs[_manip]+'/E_ctx_vec.pkl', 'rb') as fr:\n",
    "        E_ctx_vec[_manip] = pickle.load(fr)\n",
    "    with open(we_model_dirs[_manip]+'/E_wrd_vec.pkl', 'rb') as fr:\n",
    "        E_wrd_vec[_manip] = pickle.load(fr)"
   ]
  },
  {
   "cell_type": "code",
   "execution_count": 111,
   "metadata": {},
   "outputs": [
    {
     "data": {
      "text/plain": [
       "{'book': array([0.20952858, 0.5842162 , 0.6536103 , ..., 0.13579279, 0.13832629,\n",
       "        0.1703568 ], dtype=float32)}"
      ]
     },
     "execution_count": 111,
     "metadata": {},
     "output_type": "execute_result"
    }
   ],
   "source": [
    "#def get_explicit_vecs(we_model, words):\n",
    "#    eSG_vecs = {}\n",
    "#    for word in words:\n",
    "#        _idx = we_model.wv.vocab[word].index\n",
    "#        _vec = we_model.wv.vectors[_idx]\n",
    "#        # explicit SkipGram\n",
    "#        eSG_vecs[word] = scipy.special.expit(np.dot(we_model.trainables.syn1neg, _vec))\n",
    "#    return eSG_vecs\n",
    "\n",
    "def get_explicit_vecs(_manip, words):\n",
    "    _we_model = we_models[_manip]\n",
    "    _E_ctx_vec = E_ctx_vec[_manip]\n",
    "    _E_wrd_vec = E_wrd_vec[_manip]\n",
    "    \n",
    "    eSG_vecs = {}\n",
    "    for word in words:\n",
    "        _idx = _we_model.wv.vocab[word].index\n",
    "        _vec = _we_model.wv.vectors[_idx]\n",
    "        \n",
    "        # explicit SkipGram\n",
    "        eSG_vecs[word] = scipy.special.expit(np.dot(_we_model.trainables.syn1neg, _vec))\n",
    "        eSG_vecs[word] /= np.sqrt(_E_ctx_vec * _E_wrd_vec[_idx])\n",
    "    \n",
    "    return eSG_vecs\n",
    "\n",
    "get_explicit_vecs('orig', ['book'])\n"
   ]
  },
  {
   "cell_type": "code",
   "execution_count": null,
   "metadata": {},
   "outputs": [],
   "source": []
  },
  {
   "cell_type": "code",
   "execution_count": 112,
   "metadata": {},
   "outputs": [
    {
     "data": {
      "text/plain": [
       "{'book': 1.0, 'library': 0.5434122681617737}"
      ]
     },
     "execution_count": 112,
     "metadata": {},
     "output_type": "execute_result"
    }
   ],
   "source": [
    "def Cosine(vec1, vec2):\n",
    "    return 1 - scipy.spatial.distance.cosine(vec1, vec2)\n",
    "\n",
    "def NegDifNorm(vec1, vec2):\n",
    "    return -np.linalg.norm((vec1/np.linalg.norm(vec1)) - (vec2/np.linalg.norm(vec2)))\n",
    "\n",
    "def get_explicit_vecs_similarity(_manip, word_from, words_to):\n",
    "    eSG_vecs_from = get_explicit_vecs(_manip, [word_from])\n",
    "    eSG_vecs_to = get_explicit_vecs(_manip, words_to)\n",
    "    \n",
    "    sims_eSG={}\n",
    "    for word_to in words_to:\n",
    "        if word_to in we_models[_manip].wv.vocab:\n",
    "            sims_eSG[word_to] = Cosine(eSG_vecs_from[word_from], eSG_vecs_to[word_to])\n",
    "    \n",
    "    return sims_eSG\n",
    "\n",
    "get_explicit_vecs_similarity('orig', 'book', ['book', 'library'])"
   ]
  },
  {
   "cell_type": "code",
   "execution_count": 113,
   "metadata": {},
   "outputs": [
    {
     "name": "stdout",
     "output_type": "stream",
     "text": [
      "orig 197549\n",
      "swapped#0.5 215364\n",
      "swapped#1.0 231864\n"
     ]
    }
   ],
   "source": [
    "for x in manipluated_list:\n",
    "    print (x, len(we_models[x].wv.vocab))\n",
    "    "
   ]
  },
  {
   "cell_type": "markdown",
   "metadata": {
    "collapsed": true
   },
   "source": [
    "## Gender Biasing Quantification"
   ]
  },
  {
   "cell_type": "code",
   "execution_count": 114,
   "metadata": {
    "scrolled": false
   },
   "outputs": [
    {
     "name": "stdout",
     "output_type": "stream",
     "text": [
      "504\n",
      "orig\n",
      "505\n",
      "swapped#0.5\n",
      "508\n",
      "swapped#1.0\n"
     ]
    }
   ],
   "source": [
    "job_eSG_vecs = {}\n",
    "job_tuples = {}\n",
    "for _manip in manipluated_list:\n",
    "    job_tuples[_manip]=[]\n",
    "    with open('resources/wordlist_occupations.txt') as fr:\n",
    "        for l in fr:\n",
    "            _tuple=l.strip('\\n').split(',')\n",
    "            if _tuple[0] in we_models[_manip].wv.vocab:\n",
    "                job_tuples[_manip].append(_tuple)\n",
    "    print (len(job_tuples[_manip]))\n",
    "\n",
    "    print (_manip)\n",
    "    job_eSG_vecs[_manip] = get_explicit_vecs(_manip, [x[0] for x in job_tuples[_manip]])\n",
    "\n",
    "\n"
   ]
  },
  {
   "cell_type": "code",
   "execution_count": null,
   "metadata": {},
   "outputs": [],
   "source": []
  },
  {
   "cell_type": "code",
   "execution_count": 115,
   "metadata": {},
   "outputs": [
    {
     "name": "stdout",
     "output_type": "stream",
     "text": [
      "orig 20\n",
      "swapped#0.5 20\n",
      "swapped#1.0 21\n"
     ]
    }
   ],
   "source": [
    "for _manip in manipluated_list:\n",
    "    _lst=[x[0] for x in job_tuples[_manip] if x[1]=='f']\n",
    "    _lst.sort()\n",
    "    #', '.join(_lst)\n",
    "    print (_manip, len(_lst))"
   ]
  },
  {
   "cell_type": "code",
   "execution_count": 116,
   "metadata": {},
   "outputs": [
    {
     "name": "stdout",
     "output_type": "stream",
     "text": [
      "orig 64\n",
      "swapped#0.5 64\n",
      "swapped#1.0 64\n"
     ]
    }
   ],
   "source": [
    "genderword_tuples = {}\n",
    "for _manip in manipluated_list:\n",
    "    genderword_tuples[_manip] = []\n",
    "\n",
    "    with open('resources/wordlist_genderspecific_medium.txt') as fr:\n",
    "        for l in fr:\n",
    "            _tuple=l.strip('\\n').split(',')\n",
    "            if _tuple[0] in we_models[_manip].wv.vocab:\n",
    "                _idx = we_models[_manip].wv.vocab[_tuple[0]].index\n",
    "                genderword_tuples[_manip].append((_tuple[0], _tuple[1], _idx))\n",
    "            else:\n",
    "                print (_tuple[0])\n",
    "    print (_manip, len(genderword_tuples[_manip]))\n"
   ]
  },
  {
   "cell_type": "code",
   "execution_count": null,
   "metadata": {},
   "outputs": [],
   "source": []
  },
  {
   "cell_type": "code",
   "execution_count": 117,
   "metadata": {},
   "outputs": [
    {
     "name": "stdout",
     "output_type": "stream",
     "text": [
      "orig\n",
      "swapped#0.5\n",
      "swapped#1.0\n"
     ]
    }
   ],
   "source": [
    "fem_SG_vecs = {}\n",
    "masc_SG_vecs = {}\n",
    "\n",
    "for _manip in manipluated_list:\n",
    "    print (_manip)\n",
    "\n",
    "    _SG_fem_vectors = []\n",
    "    _SG_masc_vectors = []\n",
    "    for _tuple in genderword_tuples[_manip]:\n",
    "        if _tuple[1] == 'f':\n",
    "            _SG_fem_vectors.append(we_models[_manip].wv.vectors[we_models[_manip].wv.vocab[_tuple[0]].index])\n",
    "        elif _tuple[1] == 'm':\n",
    "            _SG_masc_vectors.append(we_models[_manip].wv.vectors[we_models[_manip].wv.vocab[_tuple[0]].index])\n",
    "\n",
    "    fem_SG_vecs[_manip] = np.mean(np.array(_SG_fem_vectors), axis=0)\n",
    "    masc_SG_vecs[_manip] = np.mean(np.array(_SG_masc_vectors), axis=0)\n",
    "\n"
   ]
  },
  {
   "cell_type": "code",
   "execution_count": null,
   "metadata": {},
   "outputs": [],
   "source": []
  },
  {
   "cell_type": "code",
   "execution_count": 118,
   "metadata": {},
   "outputs": [
    {
     "name": "stdout",
     "output_type": "stream",
     "text": [
      "orig\n",
      "swapped#0.5\n",
      "swapped#1.0\n"
     ]
    }
   ],
   "source": [
    "fem_exp_feature_vecs = {}\n",
    "masc_exp_feature_vecs = {}\n",
    "\n",
    "for _manip in manipluated_list:\n",
    "    print (_manip)\n",
    "\n",
    "    fem_exp_feature_vecs[_manip] = np.zeros(len(we_models[_manip].wv.vocab))\n",
    "    masc_exp_feature_vecs[_manip] = np.zeros(len(we_models[_manip].wv.vocab))\n",
    "    for _tuple in genderword_tuples[_manip]:\n",
    "        if _tuple[1] == 'f':\n",
    "            fem_exp_feature_vecs[_manip][_tuple[2]] = 1\n",
    "        elif _tuple[1] == 'm':\n",
    "            masc_exp_feature_vecs[_manip][_tuple[2]] = 1\n"
   ]
  },
  {
   "cell_type": "code",
   "execution_count": 119,
   "metadata": {},
   "outputs": [
    {
     "name": "stdout",
     "output_type": "stream",
     "text": [
      "orig\n",
      "32 32\n",
      "swapped#0.5\n",
      "32 32\n",
      "swapped#1.0\n",
      "32 32\n"
     ]
    }
   ],
   "source": [
    "for _manip in manipluated_list:\n",
    "    print (_manip)\n",
    "    print (len([x for x in genderword_tuples[_manip] if x[1]=='f']), len([x for x in genderword_tuples[_manip] if x[1]=='m']))"
   ]
  },
  {
   "cell_type": "code",
   "execution_count": null,
   "metadata": {},
   "outputs": [],
   "source": []
  },
  {
   "cell_type": "markdown",
   "metadata": {},
   "source": [
    "### calculating bias"
   ]
  },
  {
   "cell_type": "code",
   "execution_count": 120,
   "metadata": {},
   "outputs": [],
   "source": [
    "job_eSG_biases = {}\n",
    "for _manip in manipluated_list:\n",
    "    job_eSG_biases[_manip] = []\n",
    "    for job_tuple in job_tuples[_manip]:\n",
    "        _vec = job_eSG_vecs[_manip][job_tuple[0]]\n",
    "        job_eSG_biases[_manip].append((job_tuple[0], \n",
    "                                  np.dot(_vec, fem_exp_feature_vecs[_manip]) - np.dot(_vec, masc_exp_feature_vecs[_manip]),\n",
    "                                  np.dot(_vec, fem_exp_feature_vecs[_manip]), \n",
    "                                  np.dot(_vec, masc_exp_feature_vecs[_manip]), job_tuple[1]))\n",
    "\n",
    "    job_eSG_biases[_manip].sort(key=lambda x: x[1])\n"
   ]
  },
  {
   "cell_type": "code",
   "execution_count": null,
   "metadata": {},
   "outputs": [],
   "source": []
  },
  {
   "cell_type": "code",
   "execution_count": null,
   "metadata": {},
   "outputs": [],
   "source": []
  },
  {
   "cell_type": "code",
   "execution_count": 121,
   "metadata": {},
   "outputs": [],
   "source": [
    "job_SG_femmasc_cosine_biases = {}\n",
    "for _manip in manipluated_list:\n",
    "    job_SG_femmasc_cosine_biases[_manip] = []\n",
    "    for job_tuple in job_tuples[_manip]:\n",
    "        _vec = we_models[_manip].wv.vectors[we_models[_manip].wv.vocab[job_tuple[0]].index]\n",
    "        job_SG_femmasc_cosine_biases[_manip].append((job_tuple[0], \n",
    "                                                Cosine(_vec, fem_SG_vecs[_manip]) - Cosine(_vec, masc_SG_vecs[_manip]),\n",
    "                                                Cosine(_vec, fem_SG_vecs[_manip]), \n",
    "                                                Cosine(_vec, masc_SG_vecs[_manip]), job_tuple[1]))\n",
    "\n",
    "    job_SG_femmasc_cosine_biases[_manip].sort(key=lambda x: x[1])\n",
    "    "
   ]
  },
  {
   "cell_type": "code",
   "execution_count": 124,
   "metadata": {},
   "outputs": [
    {
     "name": "stdout",
     "output_type": "stream",
     "text": [
      "loading data/allwords_recSGnormsqrt_bias.pkl\n",
      "loading data/allwords_dense_cosine_bias.pkl\n",
      "loading data/allwords_recSGnormsqrt_bias.pkl\n",
      "loading data/allwords_dense_cosine_bias.pkl\n",
      "loading data/allwords_recSGnormsqrt_bias.pkl\n",
      "loading data/allwords_dense_cosine_bias.pkl\n"
     ]
    }
   ],
   "source": [
    "# bias values for all words\n",
    "allwords_eSG_bias={}\n",
    "allwords_SG_cosine_bias={}\n",
    "for _manip in manipluated_list:\n",
    "    \n",
    "    #if _manip=='orig':\n",
    "    #    _folder = \"data\"\n",
    "    #else:\n",
    "    #    _folder = \"data/manipulated-\"+'swapped#1.0'#_manip\n",
    "    _folder = \"data\"\n",
    "    \n",
    "    \n",
    "    _path = os.path.join(_folder, \"allwords_recSGnormsqrt_bias.pkl\")\n",
    "    #_path = os.path.join(_folder, \"allwords_recSGnorm_bias.pkl\")\n",
    "    #_path = os.path.join(_folder, \"allwords_eSG_bias.pkl\")\n",
    "    print ('loading %s' % _path)\n",
    "    with open(_path, 'rb') as fw:\n",
    "        allwords_eSG_bias[_manip] = pickle.load(fw)\n",
    "\n",
    "    _path = os.path.join(_folder, \"allwords_dense_cosine_bias.pkl\")\n",
    "    print ('loading %s' % _path)\n",
    "    with open(_path, 'rb') as fw:\n",
    "        allwords_SG_cosine_bias[_manip] = pickle.load(fw)\n",
    "\n"
   ]
  },
  {
   "cell_type": "code",
   "execution_count": null,
   "metadata": {},
   "outputs": [],
   "source": []
  },
  {
   "cell_type": "code",
   "execution_count": 125,
   "metadata": {},
   "outputs": [
    {
     "name": "stdout",
     "output_type": "stream",
     "text": [
      "eSG_bias_expectation orig 11.617065675480283 11.617065675480283\n",
      "SG_bias_expectation orig 0.03614112234746913 0.03614112234746913\n",
      "eSG_bias_expectation swapped#0.5 11.617065675480283 11.617065675480283\n",
      "SG_bias_expectation swapped#0.5 0.03614112234746913 0.03614112234746913\n",
      "eSG_bias_expectation swapped#1.0 11.617065675480283 11.617065675480283\n",
      "SG_bias_expectation swapped#1.0 0.03614112234746913 0.03614112234746913\n"
     ]
    }
   ],
   "source": [
    "#### neutral borders\n",
    "eSG_bias_expectation_fem = {}\n",
    "eSG_bias_expectation_mas = {}\n",
    "SG_cosine_bias_expectation_fem = {}\n",
    "SG_cosine_bias_expectation_mas = {}\n",
    "\n",
    "for _manip in manipluated_list:\n",
    "    eSG_bias_expectation_fem[_manip] = np.average([np.abs(x[0]-x[1]) for x in allwords_eSG_bias[_manip]])#, weights=we_vocab_count_downsampled\n",
    "    eSG_bias_expectation_mas[_manip] = np.average([np.abs(x[0]-x[1]) for x in allwords_eSG_bias[_manip]])#, weights=we_vocab_count_downsampled\n",
    "    print ('eSG_bias_expectation '+_manip, eSG_bias_expectation_fem[_manip], eSG_bias_expectation_mas[_manip])\n",
    "\n",
    "    SG_cosine_bias_expectation_fem[_manip] = np.average([np.abs(x[0]-x[1]) for x in allwords_SG_cosine_bias[_manip]])\n",
    "    SG_cosine_bias_expectation_mas[_manip] = np.average([np.abs(x[0]-x[1]) for x in allwords_SG_cosine_bias[_manip]])#, weights=we_vocab_count_downsampled\n",
    "    print ('SG_bias_expectation '+_manip, SG_cosine_bias_expectation_fem[_manip], SG_cosine_bias_expectation_mas[_manip])\n",
    "\n",
    "\n"
   ]
  },
  {
   "cell_type": "code",
   "execution_count": 126,
   "metadata": {},
   "outputs": [
    {
     "name": "stdout",
     "output_type": "stream",
     "text": [
      "orig [225.08760536]\n",
      "eSG_bias_expectation_scaled orig 0.05161130777079559 0.05161130777079559\n",
      "swapped#0.5 [225.08760536]\n",
      "eSG_bias_expectation_scaled swapped#0.5 0.05161130777079559 0.05161130777079559\n",
      "swapped#1.0 [225.08760536]\n",
      "eSG_bias_expectation_scaled swapped#1.0 0.05161130777079559 0.05161130777079559\n"
     ]
    }
   ],
   "source": [
    "## scale to MinMax\n",
    "\n",
    "from sklearn.preprocessing import MinMaxScaler\n",
    "\n",
    "\n",
    "job_eSG_biases_scaled = {}\n",
    "eSG_bias_expectation_fem_scaled = {}\n",
    "eSG_bias_expectation_mas_scaled = {}\n",
    "\n",
    "for _manip in manipluated_list:\n",
    "    scaler = MinMaxScaler()\n",
    "    scaler.fit(np.array([x[0] for x in allwords_eSG_bias['orig']]+[x[1] for x in allwords_eSG_bias['orig']]+[0]).reshape(-1, 1))\n",
    "    #scaler.fit(np.array([x[0]-x[1] for x in allwords_eSG_bias['orig']]).reshape(-1, 1))\n",
    "    print(_manip, scaler.data_max_)\n",
    "\n",
    "    job_eSG_biases_scaled[_manip] = []\n",
    "    for tpl in job_eSG_biases[_manip]:\n",
    "        tpl2, tpl3 = scaler.transform(np.array([tpl[2],tpl[3]]).reshape(1, -1))[0]\n",
    "        job_eSG_biases_scaled[_manip].append((tpl[0], tpl2 - tpl3, tpl2, tpl3, tpl[4]))\n",
    "    eSG_bias_expectation_fem_scaled[_manip], eSG_bias_expectation_mas_scaled[_manip] = scaler.transform(np.array([eSG_bias_expectation_fem[_manip], eSG_bias_expectation_mas[_manip]]).reshape(1, -1))[0]\n",
    "    print ('eSG_bias_expectation_scaled '+_manip, eSG_bias_expectation_fem_scaled[_manip], eSG_bias_expectation_mas_scaled[_manip])\n"
   ]
  },
  {
   "cell_type": "code",
   "execution_count": 225,
   "metadata": {},
   "outputs": [
    {
     "data": {
      "text/plain": [
       "['orig', 'swapped#0.5', 'swapped#1.0']"
      ]
     },
     "execution_count": 225,
     "metadata": {},
     "output_type": "execute_result"
    }
   ],
   "source": [
    "manipluated_list"
   ]
  },
  {
   "cell_type": "markdown",
   "metadata": {},
   "source": [
    "## Bias Changes"
   ]
  },
  {
   "cell_type": "code",
   "execution_count": 328,
   "metadata": {},
   "outputs": [],
   "source": [
    "bias_changes = {}\n",
    "bias_changes_scaled = {}\n",
    "bias_changes_scaled_relative = {}\n",
    "bias_changes_female = {}\n",
    "bias_changes_male = {}\n",
    "\n",
    "for _manip_i, _manip in enumerate(manipluated_list):\n",
    "    if _manip=='orig':\n",
    "        continue\n",
    "    bias_changes[_manip] = []\n",
    "    bias_changes_scaled[_manip] = []\n",
    "    bias_changes_scaled_relative[_manip] = []\n",
    "    bias_changes_female[_manip] = []\n",
    "    bias_changes_male[_manip] = []\n",
    "\n",
    "    #for x_job in ['bookmaker', 'gunsmith', 'repairer', 'roofer', 'farrier', 'toolmaker', 'plasterer', \n",
    "    #                     'mechanician', 'stonemason', 'bricklayer', 'manicurist', 'nurse', 'housekeeper', 'beautician',\n",
    "    #                     'homemaker', 'socialite', 'dressmaker', 'dietitian', 'receptionist', 'dancer']:\n",
    "    #for x_job in ['manicurist', 'housekeeper', 'beautician', 'nurse', 'homemaker',\n",
    "    #              'bookmaker', 'gunsmith', 'repairer', 'roofer', 'farrier', \n",
    "    #              ]:\n",
    "    for x_job in ['dancer', 'nurse', 'therapist', 'healer', 'dressmaker',\n",
    "                  'parliamentarian', 'mechanician', 'repairer', 'cabinetmaker', 'bricklayer', \n",
    "                  ]:\n",
    "#['parliamentarian', 'promoter', 'upholsterer', 'cabinetmaker', 'mechanician']\n",
    "#['healer', 'therapist', 'paralegal', 'obstetrician', 'manicurist']\n",
    "#['trainer', 'labourer', 'bricklayer', 'diplomat', 'saxophonist']\n",
    "#['therapist', 'choreographer', 'stylist', 'nurse', 'dancer']\n",
    "\n",
    "        bias_changes[_manip].append([x_job,\n",
    "                             [[x[1] for x in job_eSG_biases['orig'] if x[0] == x_job][0], \n",
    "                              [x[1] for x in job_eSG_biases[_manip] if x[0] == x_job][0]],\n",
    "                             [[x[1] for x in job_SG_femmasc_cosine_biases['orig'] if x[0] == x_job][0],\n",
    "                              [x[1] for x in job_SG_femmasc_cosine_biases[_manip] if x[0] == x_job][0]]])\n",
    "\n",
    "        val1 = [x[1] for x in job_eSG_biases_scaled['orig'] if x[0] == x_job][0]\n",
    "        val2 = [x[1] for x in job_eSG_biases_scaled[_manip] if x[0] == x_job][0]\n",
    "        val3 = [x[1] for x in job_SG_femmasc_cosine_biases['orig'] if x[0] == x_job][0]\n",
    "        val4 = [x[1] for x in job_SG_femmasc_cosine_biases[_manip] if x[0] == x_job][0]\n",
    "        bias_changes_scaled[_manip].append([x_job,\n",
    "                             [val1, val2], [val3, val4]])\n",
    "\n",
    "        _manip_before = manipluated_list[_manip_i-1]\n",
    "        val1 = [x[1] for x in job_eSG_biases_scaled[_manip_before] if x[0] == x_job][0]\n",
    "        val2 = [x[1] for x in job_eSG_biases_scaled[_manip] if x[0] == x_job][0]\n",
    "        val3 = [x[1] for x in job_SG_femmasc_cosine_biases[_manip_before] if x[0] == x_job][0]\n",
    "        val4 = [x[1] for x in job_SG_femmasc_cosine_biases[_manip] if x[0] == x_job][0]\n",
    "        bias_changes_scaled_relative[_manip].append([x_job,\n",
    "                             [np.abs((val1-val1)/val1), np.abs((val2-val1)/val1)],\n",
    "                             [np.abs((val3-val3)/val3), np.abs((val4-val3)/val3)]])\n",
    "\n",
    "\n",
    "        bias_changes_female[_manip].append((x_job,\n",
    "                             ([x[2] for x in job_eSG_biases_scaled['orig'] if x[0] == x_job][0], \n",
    "                              [x[2] for x in job_eSG_biases_scaled[_manip] if x[0] == x_job][0]),\n",
    "                             ([x[2] for x in job_SG_femmasc_cosine_biases['orig'] if x[0] == x_job][0],\n",
    "                              [x[2] for x in job_SG_femmasc_cosine_biases[_manip] if x[0] == x_job][0])))\n",
    "\n",
    "        bias_changes_male[_manip].append((x_job,\n",
    "                             ([x[3] for x in job_eSG_biases_scaled['orig'] if x[0] == x_job][0], \n",
    "                              [x[3] for x in job_eSG_biases_scaled[_manip] if x[0] == x_job][0]),\n",
    "                             ([x[3] for x in job_SG_femmasc_cosine_biases['orig'] if x[0] == x_job][0],\n",
    "                              [x[3] for x in job_SG_femmasc_cosine_biases[_manip] if x[0] == x_job][0])))\n",
    "\n",
    "\n",
    "\n"
   ]
  },
  {
   "cell_type": "code",
   "execution_count": 329,
   "metadata": {},
   "outputs": [
    {
     "data": {
      "text/plain": [
       "{'swapped#0.5': [['dancer',\n",
       "   [0.0, 0.7736103542580169],\n",
       "   [0.0, 0.6143856813641334]],\n",
       "  ['nurse', [0.0, 0.7146416162989161], [0.0, 0.5690445858225583]],\n",
       "  ['therapist', [0.0, 0.8342586686297181], [0.0, 0.6604605755603234]],\n",
       "  ['healer', [0.0, 0.9336273539574993], [0.0, 0.9381880954656563]],\n",
       "  ['dressmaker', [0.0, 0.6417271765779754], [0.0, 0.4350281286923615]],\n",
       "  ['parliamentarian', [0.0, 0.861322681838008], [0.0, 0.66052362362207]],\n",
       "  ['mechanician', [0.0, 0.6088031188254653], [0.0, 0.6498531368007952]],\n",
       "  ['repairer', [0.0, 0.4869748029444384], [0.0, 0.4510198668653066]],\n",
       "  ['cabinetmaker', [0.0, 0.691928743488109], [0.0, 0.6361775190527686]],\n",
       "  ['bricklayer', [0.0, 0.5323442657790505], [0.0, 0.5497471372724494]]],\n",
       " 'swapped#1.0': [['dancer',\n",
       "   [0.0, 0.872748284592845],\n",
       "   [0.0, 0.9423520838111585]],\n",
       "  ['nurse', [0.0, 0.9994901698061724], [0.0, 1.046711845117882]],\n",
       "  ['therapist', [0.0, 0.7581666962015926], [0.0, 0.9379974899543395]],\n",
       "  ['healer', [0.0, 1.6033242794705103], [0.0, 2.503129534117747]],\n",
       "  ['dressmaker', [0.0, 0.7617889035326608], [0.0, 0.885628672136173]],\n",
       "  ['parliamentarian', [0.0, 0.9792597438446399], [0.0, 0.3411229083932177]],\n",
       "  ['mechanician', [0.0, 0.4169277975494349], [0.0, 0.5294885508742188]],\n",
       "  ['repairer', [0.0, 0.6025068949783156], [0.0, 0.5575763907385847]],\n",
       "  ['cabinetmaker', [0.0, 0.7039302179647978], [0.0, 0.09073073283566396]],\n",
       "  ['bricklayer', [0.0, 0.3987671588952088], [0.0, 0.15587836407679465]]]}"
      ]
     },
     "execution_count": 329,
     "metadata": {},
     "output_type": "execute_result"
    }
   ],
   "source": [
    "bias_changes_scaled_relative"
   ]
  },
  {
   "cell_type": "code",
   "execution_count": null,
   "metadata": {},
   "outputs": [],
   "source": []
  },
  {
   "cell_type": "code",
   "execution_count": 371,
   "metadata": {},
   "outputs": [
    {
     "data": {
      "image/png": "[encoded data removed]",
      "text/plain": [
       "<Figure size 576x432 with 1 Axes>"
      ]
     },
     "metadata": {
      "needs_background": "light"
     },
     "output_type": "display_data"
    }
   ],
   "source": [
    "\n",
    "fsize=22\n",
    "fsize2=18\n",
    "\n",
    "#colors=['#74c476','#31a354','#005a32','black']\n",
    "markers=['o','^','v','D']\n",
    "lss=['-','-.','--','-','-','-','-','-']\n",
    "\n",
    "_color_unbiasedarea='#bdbdbd'\n",
    "_color_unbiasedarea2='red'\n",
    "_color_unbiasedborder='black'#'#737373'\n",
    "_color_unbiasedborder2='red'\n",
    "_color_unbiasedpnt='#636363'\n",
    "_color_SG_male='red'\n",
    "_color_eSG_male='black'\n",
    "_color_SG_female='#6baed6'#3182bd\n",
    "_color_eSG_female='#08519c'\n",
    "\n",
    "\n",
    "size_cof = 1\n",
    "min_x = -0.3\n",
    "max_x = 0.4\n",
    "max_y=11.3#*size_cof\n",
    "\n",
    "\n",
    "_bias_expectation_fem = eSG_bias_expectation_fem_scaled['orig']\n",
    "_bias_expectation_mas = eSG_bias_expectation_mas_scaled['orig']\n",
    "_bias_expectation_fem2 = SG_cosine_bias_expectation_fem['orig']\n",
    "_bias_expectation_mas2 = SG_cosine_bias_expectation_mas['orig']\n",
    "\n",
    "\n",
    "fig, ax= plt.subplots(nrows=1, ncols=1 , figsize=(8, 6))\n",
    "\n",
    "\n",
    "ax.axvline(x=-_bias_expectation_mas, c=_color_unbiasedborder, ls='-.', lw=3)\n",
    "ax.axvline(x=+_bias_expectation_fem, c=_color_unbiasedborder, ls='-.', lw=3)\n",
    "ax.fill_between([-_bias_expectation_mas,_bias_expectation_fem], \n",
    "                [0, 0],\n",
    "                [max_y, max_y],\n",
    "                facecolor=_color_unbiasedarea, alpha=0.7, interpolate=True)\n",
    "ax.axvline(x=-_bias_expectation_mas2, c=_color_unbiasedborder2, ls='-.', lw=3)\n",
    "ax.axvline(x=+_bias_expectation_fem2, c=_color_unbiasedborder2, ls='-.', lw=3)\n",
    "#ax.fill_between([-_bias_expectation_mas2,_bias_expectation_fem2], \n",
    "#                [0, 0],\n",
    "#                [max_y, max_y],\n",
    "#                facecolor=_color_unbiasedarea, alpha=0.1, interpolate=True)\n",
    "\n",
    "for _manip_i, _manip in enumerate(manipluated_list[1:]):\n",
    "\n",
    "    _bias_changes = bias_changes_scaled[_manip]\n",
    "\n",
    "    for i in range(0,len(_bias_changes)):\n",
    "        x=_bias_changes[i][1]\n",
    "        y=[(10-i)*size_cof, (10-i)*size_cof]\n",
    "        ax.scatter(x, y, c=_color_eSG_male, s=90, marker='o')\n",
    "        ax.annotate(\"\", xy=(x[0], y[0]), xytext=(x[1], y[1]),\n",
    "                    arrowprops={'arrowstyle': '<-, head_width=0.5', 'ls':'-', 'lw':3, \n",
    "                                'color': _color_eSG_male, 'shrinkB':10, 'shrinkA':5}\n",
    "                   )\n",
    "        _text=_bias_changes[i][0]\n",
    "        #_text=_text[0].upper()+_text[1:]\n",
    "        if i==0:\n",
    "            ax.annotate(_text, xy=(x[0], y[0]), xytext=(x[0]-0.01, y[0]+0.3), fontsize=fsize2)\n",
    "        elif i==1:\n",
    "            ax.annotate(_text, xy=(x[0], y[0]), xytext=(x[0]-0.02, y[0]+0.3), fontsize=fsize2)\n",
    "        elif i==2:\n",
    "            ax.annotate(_text, xy=(x[0], y[0]), xytext=(x[0]-0.01, y[0]+0.3), fontsize=fsize2)\n",
    "        elif i==3:\n",
    "            ax.annotate(_text, xy=(x[0], y[0]), xytext=(x[0]-0.01, y[0]+0.3), fontsize=fsize2)\n",
    "        elif i==4:\n",
    "            ax.annotate(_text, xy=(x[0], y[0]), xytext=(x[0]-0.04, y[0]+0.3), fontsize=fsize2)\n",
    "        elif i==5:\n",
    "            ax.annotate(_text, xy=(x[0], y[0]), xytext=(x[0]-0.17, y[0]+0.3), fontsize=fsize2)\n",
    "        elif i==6:\n",
    "            ax.annotate(_text, xy=(x[0], y[0]), xytext=(x[0]-0.115, y[0]+0.3), fontsize=fsize2)\n",
    "        elif i==7:\n",
    "            ax.annotate(_text, xy=(x[0], y[0]), xytext=(x[0]-0.09, y[0]+0.3), fontsize=fsize2)\n",
    "        elif i==8:\n",
    "            ax.annotate(_text, xy=(x[0], y[0]), xytext=(x[0]-0.14, y[0]+0.3), fontsize=fsize2)\n",
    "        elif i==9:\n",
    "            ax.annotate(_text, xy=(x[0], y[0]), xytext=(x[0]-0.09, y[0]+0.3), fontsize=fsize2)\n",
    "        else:\n",
    "            ax.annotate(_text, xy=(x[0], y[0]), xytext=(x[0]-0.09, y[0]+0.3), fontsize=fsize2)\n",
    "        \n",
    "        x=_bias_changes[i][2]\n",
    "        y=[(10-i-0.35)*size_cof, (10-i-0.35)*size_cof]\n",
    "        ax.scatter(x, y, c=_color_SG_male, s=90, marker='o')\n",
    "        ax.annotate(\"\", xy=(x[0], y[0]), xytext=(x[1], y[1]),\n",
    "                    arrowprops={'arrowstyle': '<-, head_width=0.5', 'ls':'-', 'lw':3, \n",
    "                                'color': _color_SG_male, 'shrinkB':10, 'shrinkA':5}\n",
    "                   )\n",
    "\n",
    "\n",
    "ax.tick_params(which='major', labelsize=fsize)\n",
    "ax.set_xlabel('Male                 Gender Bias                Female', fontsize=fsize)\n",
    "ax.get_yaxis().set_visible(False)\n",
    "ax.set_xlim(min_x, max_x)\n",
    "ax.set_ylim(0, max_y)\n",
    "plt.gca().xaxis.grid(True)\n",
    "\n",
    "fig.tight_layout()\n",
    "plt.show()\n",
    "fig.set_size_inches(8, 6)\n",
    "fig.savefig('plots/job_recSG_change_swapped.pdf', dpi=100, transparent=True, bbox_inches='tight', pad_inches=0)\n",
    "\n",
    "\n",
    "\n"
   ]
  },
  {
   "cell_type": "code",
   "execution_count": null,
   "metadata": {
    "scrolled": false
   },
   "outputs": [],
   "source": []
  },
  {
   "cell_type": "code",
   "execution_count": 337,
   "metadata": {},
   "outputs": [
    {
     "name": "stdout",
     "output_type": "stream",
     "text": [
      "[0.7736103542580169, 0.7146416162989161, 0.8342586686297181, 0.9336273539574993, 0.6417271765779754, 0.861322681838008, 0.6088031188254653, 0.4869748029444384, 0.691928743488109, 0.5323442657790505]\n",
      "[0.6143856813641334, 0.5690445858225583, 0.6604605755603234, 0.9381880954656563, 0.4350281286923615, 0.66052362362207, 0.6498531368007952, 0.4510198668653066, 0.6361775190527686, 0.5497471372724494]\n"
     ]
    },
    {
     "data": {
      "image/png": "[encoded data removed]",
      "text/plain": [
       "<Figure size 576x432 with 1 Axes>"
      ]
     },
     "metadata": {
      "needs_background": "light"
     },
     "output_type": "display_data"
    },
    {
     "name": "stdout",
     "output_type": "stream",
     "text": [
      "[0.872748284592845, 0.9994901698061724, 0.7581666962015926, 1.6033242794705103, 0.7617889035326608, 0.9792597438446399, 0.4169277975494349, 0.6025068949783156, 0.7039302179647978, 0.3987671588952088]\n",
      "[0.9423520838111585, 1.046711845117882, 0.9379974899543395, 2.503129534117747, 0.885628672136173, 0.3411229083932177, 0.5294885508742188, 0.5575763907385847, 0.09073073283566396, 0.15587836407679465]\n"
     ]
    },
    {
     "data": {
      "image/png": "[encoded data removed]",
      "text/plain": [
       "<Figure size 576x432 with 1 Axes>"
      ]
     },
     "metadata": {
      "needs_background": "light"
     },
     "output_type": "display_data"
    }
   ],
   "source": [
    "\n",
    "fsize=20\n",
    "fsize2=18\n",
    "\n",
    "#colors=['#74c476','#31a354','#005a32','black']\n",
    "markers=['o','^','v','D']\n",
    "lss=['-','-.','--','-','-','-','-','-']\n",
    "\n",
    "_color_unbiasedarea='#bdbdbd'\n",
    "_color_unbiasedarea2='red'\n",
    "_color_unbiasedborder='black'#'#737373'\n",
    "_color_unbiasedborder2='red'\n",
    "_color_unbiasedpnt='#636363'\n",
    "_color_SG_male='red'\n",
    "_color_eSG_male='black'\n",
    "_color_SG_female='#6baed6'#3182bd\n",
    "_color_eSG_female='#08519c'\n",
    "\n",
    "\n",
    "size_cof = 1\n",
    "min_x = -0.3\n",
    "max_x = 0.6\n",
    "max_y=11.3#*size_cof\n",
    "\n",
    "\n",
    "_bias_expectation_fem = eSG_bias_expectation_fem_scaled['orig']\n",
    "_bias_expectation_mas = eSG_bias_expectation_mas_scaled['orig']\n",
    "_bias_expectation_fem2 = SG_cosine_bias_expectation_fem['orig']\n",
    "_bias_expectation_mas2 = SG_cosine_bias_expectation_mas['orig']\n",
    "\n",
    "\n",
    "\n",
    "for _manip_i, _manip in enumerate(manipluated_list[1:]):\n",
    "\n",
    "    fig, ax= plt.subplots(nrows=1, ncols=1 , figsize=(8, 6))\n",
    "\n",
    "\n",
    "    _bias_changes = bias_changes_scaled_relative[_manip]\n",
    "\n",
    "    xlist = []\n",
    "    y1list = []\n",
    "    y2list = []\n",
    "    for i in range(0,len(_bias_changes)):\n",
    "        xlist.append(_bias_changes[i][0])\n",
    "        \n",
    "        y1list.append(abs(_bias_changes[i][1][1] - _bias_changes[i][1][0]))\n",
    "        y2list.append(abs(_bias_changes[i][2][1] - _bias_changes[i][2][0]))\n",
    "\n",
    "    ax.plot(xlist, y1list)\n",
    "    ax.plot(xlist, y2list)\n",
    "    print (y1list)\n",
    "    print (y2list)\n",
    "\n",
    "    ax.tick_params(which='major', labelsize=fsize)\n",
    "    #ax.set_xlabel('Male                    Gender Bias                   Female', fontsize=fsize)\n",
    "    ax.get_yaxis().set_visible(False)\n",
    "    #ax.set_xlim(min_x, max_x)\n",
    "    #ax.set_ylim(0, max_y)\n",
    "    plt.gca().xaxis.grid(True)\n",
    "\n",
    "    fig.tight_layout()\n",
    "    plt.show()\n",
    "    fig.set_size_inches(8, 6)\n",
    "    #fig.savefig('plots/job_recSG_change_swapped.pdf', dpi=100, transparent=True, bbox_inches='tight', pad_inches=0)\n",
    "\n",
    "\n",
    "\n",
    "\n"
   ]
  },
  {
   "cell_type": "code",
   "execution_count": null,
   "metadata": {},
   "outputs": [],
   "source": []
  },
  {
   "cell_type": "code",
   "execution_count": 36,
   "metadata": {},
   "outputs": [
    {
     "name": "stdout",
     "output_type": "stream",
     "text": [
      "swapped#0.5\n"
     ]
    },
    {
     "data": {
      "image/png": "[encoded data removed]",
      "text/plain": [
       "<Figure size 576x432 with 1 Axes>"
      ]
     },
     "metadata": {
      "needs_background": "light"
     },
     "output_type": "display_data"
    },
    {
     "name": "stdout",
     "output_type": "stream",
     "text": [
      "swapped#1.0\n"
     ]
    },
    {
     "data": {
      "image/png": "[encoded data removed]",
      "text/plain": [
       "<Figure size 576x432 with 1 Axes>"
      ]
     },
     "metadata": {
      "needs_background": "light"
     },
     "output_type": "display_data"
    }
   ],
   "source": [
    "\n",
    "fsize=32\n",
    "fsize2=18\n",
    "\n",
    "#colors=['#74c476','#31a354','#005a32','black']\n",
    "markers=['o','^','v','D']\n",
    "lss=['-','-.','--','-','-','-','-','-']\n",
    "\n",
    "\n",
    "\n",
    "_color_unbiasedarea='#bdbdbd'\n",
    "_color_unbiasedborder='#737373'\n",
    "_color_unbiasedpnt='#636363'\n",
    "_color_SG_male='red'\n",
    "_color_eSG_male='black'\n",
    "_color_SG_female='#6baed6'#3182bd\n",
    "_color_eSG_female='#08519c'\n",
    "\n",
    "max_x=0.826\n",
    "max_y=0.62\n",
    "size_cof = 1.4\n",
    "\n",
    "for _manip in manipluated_list:\n",
    "    if _manip=='orig':\n",
    "        continue\n",
    "    print (_manip)\n",
    "    \n",
    "    fig, ax= plt.subplots(nrows=1, ncols=1 , figsize=(8, 6))\n",
    "\n",
    "    _bias_expectation_fem = eSG_bias_expectation_fem_scaled[_manip]\n",
    "    _bias_expectation_mas = eSG_bias_expectation_mas_scaled[_manip]\n",
    "    _bias_changes_tuples = list(zip(bias_changes_female[_manip], bias_changes_male[_manip]))\n",
    "\n",
    "\n",
    "    for i in range(0,len(_bias_changes)):\n",
    "        x=_bias_changes_tuples[i][0][1]\n",
    "        y=_bias_changes_tuples[i][1][1]\n",
    "        ax.scatter(x, y, c=_color_eSG_male, s=100, marker='o')\n",
    "        #ax.annotate(_bias_changes_tuples[i][0][0], xy=(x[0], y[0]), xytext=(x[0], y[0]), fontsize=fsize2)\n",
    "        ax.annotate(\"\", xy=(x[0], y[0]), xytext=(x[1], y[1]),\n",
    "                    arrowprops={'arrowstyle': '<-, head_width=0.5', 'ls':'dashed', 'lw':1, \n",
    "                                'color': _color_eSG_male, 'shrinkB':10, 'shrinkA':5}\n",
    "                   )\n",
    "\n",
    "    ax.plot((0, max_y), (0, max_y), c=_color_unbiasedborder, ls='-.', lw=2)\n",
    "    ax.plot((0, max_y+0.01), (abs(_bias_expectation_mas), max_y+abs(_bias_expectation_mas)+0.01), c=_color_unbiasedborder, ls='--', lw=3)\n",
    "    ax.plot((_bias_expectation_fem, max_y+_bias_expectation_fem), (0, max_y), c=_color_unbiasedborder, ls='--', lw=3)\n",
    "\n",
    "    ax.fill_between([0,max_y+0.04], \n",
    "                    [abs(_bias_expectation_mas), max_y+abs(_bias_expectation_mas)+0.04],\n",
    "                    [-abs(_bias_expectation_fem), max_y-abs(_bias_expectation_fem)+0.04],\n",
    "                    facecolor=_color_unbiasedarea, alpha=0.3, interpolate=True)\n",
    "\n",
    "\n",
    "    ax.tick_params(axis='both', which='major', labelsize=fsize)\n",
    "    ax.set_xlabel('Female Factor', fontsize=fsize)\n",
    "    ax.set_ylabel('Male Factor', fontsize=fsize)\n",
    "    ax.set_xlim(0, max_x)\n",
    "    ax.set_ylim(0, max_y)\n",
    "    ax.grid(True)\n",
    "\n",
    "    fig.tight_layout()\n",
    "    plt.show()\n",
    "    fig.set_size_inches(8, 6)\n",
    "    #fig.savefig('plots/job_SG_bias_histogram.pdf', dpi=100, transparent=True, bbox_inches='tight', pad_inches=0)\n",
    "\n",
    "\n",
    "\n",
    "\n",
    "\n"
   ]
  },
  {
   "cell_type": "code",
   "execution_count": null,
   "metadata": {},
   "outputs": [],
   "source": []
  },
  {
   "cell_type": "code",
   "execution_count": null,
   "metadata": {},
   "outputs": [],
   "source": [
    "\n",
    "fsize=32\n",
    "fsize2=18\n",
    "\n",
    "#colors=['#74c476','#31a354','#005a32','black']\n",
    "markers=['o','^','v','D']\n",
    "lss=['-','-.','--','-','-','-','-','-']\n",
    "\n",
    "_bias_expectation_fem = SG_cosine_bias_expectation_fem\n",
    "_bias_expectation_mas = SG_cosine_bias_expectation_mas\n",
    "_bias_changes_tuples = list(zip(bias_changes_female, bias_changes_male))\n",
    "\n",
    "fig, ax= plt.subplots(nrows=1, ncols=1 , figsize=(8, 6))\n",
    "\n",
    "_color_unbiasedarea='#bdbdbd'\n",
    "_color_unbiasedborder='#737373'\n",
    "_color_unbiasedpnt='#636363'\n",
    "_color_SG_male='red'\n",
    "_color_eSG_male='black'\n",
    "_color_SG_female='#6baed6'#3182bd\n",
    "_color_eSG_female='#08519c'\n",
    "\n",
    "\n",
    "max_x=0.826\n",
    "max_y=0.62\n",
    "size_cof = 1.4\n",
    "\n",
    "for i in range(0,len(_bias_changes)):\n",
    "    x=_bias_changes_tuples[i][0][2]\n",
    "    y=_bias_changes_tuples[i][1][2]\n",
    "    ax.scatter(x, y, c=_color_SG_male, s=120, marker='^')\n",
    "    ax.annotate(_bias_changes_tuples[i][0][0], xy=(x[0], y[0]), xytext=(x[0], y[0]), fontsize=fsize2)\n",
    "    ax.annotate(\"\", xy=(x[0], y[0]), xytext=(x[1], y[1]),\n",
    "                arrowprops={'arrowstyle': '<-, head_width=0.5', 'ls':'-.', 'lw':4, \n",
    "                            'color': _color_SG_male, 'shrinkB':10, 'shrinkA':5}\n",
    "               )\n",
    "\n",
    "ax.plot((0, max_y), (0, max_y), c=_color_unbiasedborder, ls='-.', lw=2)\n",
    "ax.plot((0, max_y+0.01), (abs(_bias_expectation_mas), max_y+abs(_bias_expectation_mas)+0.01), c=_color_unbiasedborder, ls='--', lw=3)\n",
    "ax.plot((_bias_expectation_fem, max_y+_bias_expectation_fem), (0, max_y), c=_color_unbiasedborder, ls='--', lw=3)\n",
    "\n",
    "ax.fill_between([0,max_y+0.04], \n",
    "                [abs(_bias_expectation_mas), max_y+abs(_bias_expectation_mas)+0.04],\n",
    "                [-abs(_bias_expectation_fem), max_y-abs(_bias_expectation_fem)+0.04],\n",
    "                facecolor=_color_unbiasedarea, alpha=0.3, interpolate=True)\n",
    "\n",
    "\n",
    "\n",
    "\n",
    "ax.tick_params(axis='both', which='major', labelsize=fsize)\n",
    "ax.set_xlabel('Female Factor', fontsize=fsize)\n",
    "ax.set_ylabel('Male Factor', fontsize=fsize)\n",
    "ax.set_xlim(0, max_x)\n",
    "ax.set_ylim(0, max_y)\n",
    "ax.grid(True)\n",
    "\n",
    "\n",
    "\n",
    "fig.tight_layout()\n",
    "plt.show()\n",
    "fig.set_size_inches(8, 6)\n",
    "#fig.savefig('plots/job_SG_bias_histogram.pdf', dpi=100, transparent=True, bbox_inches='tight', pad_inches=0)\n",
    "\n",
    "\n",
    "\n",
    "\n",
    "\n",
    "\n"
   ]
  },
  {
   "cell_type": "code",
   "execution_count": null,
   "metadata": {},
   "outputs": [],
   "source": []
  },
  {
   "cell_type": "code",
   "execution_count": null,
   "metadata": {},
   "outputs": [],
   "source": []
  },
  {
   "cell_type": "markdown",
   "metadata": {},
   "source": [
    "### Most Biased Words"
   ]
  },
  {
   "cell_type": "code",
   "execution_count": 347,
   "metadata": {},
   "outputs": [],
   "source": [
    "#with open('/data/text/retrieval/collections/wikipedia/wiki-english-20171001/stats/corpus_sectiontexts.txt.clean.vocabs_count.pkl', 'rb') as fr:\n",
    "#    vocabs_count = pickle.load(fr)\n",
    "    "
   ]
  },
  {
   "cell_type": "code",
   "execution_count": 268,
   "metadata": {},
   "outputs": [],
   "source": [
    "_eSG_bias_expectation_fem = eSG_bias_expectation_fem['orig']\n",
    "_eSG_bias_expectation_mas = eSG_bias_expectation_mas['orig']\n",
    "_SG_bias_expectation_fem = SG_cosine_bias_expectation_fem['orig']\n",
    "_SG_bias_expectation_mas = SG_cosine_bias_expectation_mas['orig']\n",
    "\n",
    "jobs_eSG_neutral_biasedfemale = [(x[0], vocabs_count[x[0]])for x in job_eSG_biases['orig'][::-1] if x[4]=='n' and x[1]>0 and np.abs(x[1])>_eSG_bias_expectation_fem ]\n",
    "jobs_eSG_neutral_biasedmale = [(x[0], vocabs_count[x[0]]) for x in job_eSG_biases['orig'] if x[4]=='n' and x[1]<0 and np.abs(x[1])>_eSG_bias_expectation_mas]#[::-1]\n",
    "#jobs_eSG_specificfemale_biasedfemale = [(x[0], vocabs_count[x[0]]) for x in job_eSG_biases['orig'][::-1] if x[4]=='f' and x[1]>0 and np.abs(x[1])>_eSG_bias_expectation_fem]\n",
    "#jobs_eSG_specificmale_biasedmale = [(x[0], vocabs_count[x[0]]) for x in job_eSG_biases['orig'] if x[4]=='m' and x[1]<0]#[::-1]\n",
    "\n",
    "jobs_SG_neutral_biasedfemale = [(x[0], vocabs_count[x[0]]) for x in job_SG_femmasc_cosine_biases['orig'][::-1] if x[4]=='n' and x[1]>0 and np.abs(x[1])>_SG_bias_expectation_fem]\n",
    "jobs_SG_neutral_biasedmale = [(x[0], vocabs_count[x[0]]) for x in job_SG_femmasc_cosine_biases['orig'] if x[4]=='n' and x[1]<0 and np.abs(x[1])>_SG_bias_expectation_mas]\n",
    "\n"
   ]
  },
  {
   "cell_type": "code",
   "execution_count": 269,
   "metadata": {},
   "outputs": [
    {
     "data": {
      "text/plain": [
       "0.03614112234746913"
      ]
     },
     "execution_count": 269,
     "metadata": {},
     "output_type": "execute_result"
    }
   ],
   "source": [
    "_SG_bias_expectation_mas"
   ]
  },
  {
   "cell_type": "code",
   "execution_count": 270,
   "metadata": {},
   "outputs": [
    {
     "name": "stdout",
     "output_type": "stream",
     "text": [
      "292 158\n",
      "376 74\n",
      "151 61\n",
      "269 31\n"
     ]
    }
   ],
   "source": [
    "#print (jobs_males)\n",
    "print (len(jobs_eSG_neutral_male), len(jobs_eSG_neutral_female))\n",
    "print (len(jobs_SG_neutral_male), len(jobs_SG_neutral_female))\n",
    "\n",
    "print (len(jobs_eSG_neutral_biasedmale), len(jobs_eSG_neutral_biasedfemale))\n",
    "print (len(jobs_SG_neutral_biasedmale), len(jobs_SG_neutral_biasedfemale))"
   ]
  },
  {
   "cell_type": "code",
   "execution_count": 283,
   "metadata": {
    "scrolled": true
   },
   "outputs": [
    {
     "name": "stdout",
     "output_type": "stream",
     "text": [
      "147\n",
      "{'diplomat', 'bookmaker', 'magistrate', 'electrician', 'brewer', 'baron', 'boxer', 'protege', 'steelworker', 'engineer', 'tailor', 'commander', 'cleric', 'collector', 'toolmaker', 'surveyor', 'custodian', 'ranger', 'lithographer', 'gravedigger', 'mathematician', 'marshal', 'inventor', 'gunsmith', 'stonecutter', 'inspector', 'shoemaker', 'sportswriter', 'assessor', 'physicist', 'proprietor', 'trader', 'bureaucrat', 'tannery', 'courtier', 'mobster', 'glazier', 'jeweller', 'goldsmith', 'metallurgist', 'promoter', 'millwright', 'roofer', 'guard', 'stonemason', 'cinematographer', 'compositor', 'joiner', 'butcher', 'labourer', 'surgeon', 'priest', 'driller', 'clerk', 'trainer', 'plasterer', 'prompter', 'saxophonist', 'metalworker', 'bookbinder', 'pundit', 'geographer', 'philosopher', 'headmaster', 'rigger', 'boilermaker', 'valuer', 'owner', 'blacksmith', 'sheriff', 'tutor', 'cabinetmaker', 'lieutenant', 'aide', 'packer', 'colonel', 'naturalist', 'cartoonist', 'doorkeeper', 'soldier', 'dyer', 'parliamentarian', 'architect', 'crooner', 'skipper', 'chief', 'upholsterer', 'solicitor', 'auctioneer', 'captain', 'chaplain', 'apprentice', 'jurist', 'gardener', 'astronomer', 'trumpeter', 'constable', 'provost', 'mechanician', 'repairer', 'accountant', 'wrestler', 'optician', 'farmer', 'tinsmith', 'gangster', 'bibliographer', 'bodyguard', 'financier', 'lumberjack', 'chemist', 'bricklayer', 'machinist', 'fitter', 'bailiff', 'adventurer', 'drummer', 'footballer', 'engraver', 'hooker', 'barrister', 'envoy', 'geologist', 'sergeant', 'glassmaker', 'projectionist', 'mechanic', 'cutler', 'cartographer', 'botanist', 'banker', 'maestro', 'warden', 'guitarist', 'composer', 'plumber', 'storekeeper', 'bootmaker', 'geophysicist', 'industrialist', 'organist', 'trooper', 'refiner', 'stockbroker', 'farrier', 'traveller', 'preacher'}\n",
      "['trainer', 'labourer', 'bricklayer', 'diplomat', 'saxophonist']\n",
      "\n",
      "31\n",
      "{'worker', 'epidemiologist', 'swimmer', 'radiographer', 'knitter', 'model', 'beautician', 'dietitian', 'homemaker', 'healer', 'embroiderer', 'receptionist', 'ceramicist', 'pediatrician', 'nurse', 'nutritionist', 'curator', 'zookeeper', 'choreographer', 'dressmaker', 'obstetrician', 'psychotherapist', 'housekeeper', 'manicurist', 'singer', 'hairdresser', 'dancer', 'therapist', 'socialite', 'stylist', 'paralegal'}\n",
      "['therapist', 'choreographer', 'stylist', 'nurse', 'dancer']\n"
     ]
    }
   ],
   "source": [
    "import random\n",
    "\n",
    "jobs_neutral_biased_male = set([x[0] for x in jobs_eSG_neutral_biasedmale]).intersection(set([x[0] for x in jobs_SG_neutral_biasedmale]))\n",
    "jobs_neutral_biased_female = set([x[0] for x in jobs_eSG_neutral_biasedfemale]).intersection(set([x[0] for x in jobs_SG_neutral_biasedfemale]))\n",
    "\n",
    "\n",
    "print (len(jobs_neutral_biased_male))\n",
    "print (jobs_neutral_biased_male)\n",
    "print (random.choices(list(jobs_neutral_biased_male), k=5))\n",
    "\n",
    "print ()\n",
    "print (len(jobs_neutral_biased_female))\n",
    "print (jobs_neutral_biased_female)\n",
    "print (random.choices(list(jobs_neutral_biased_female), k=5))\n",
    "\n",
    "\n"
   ]
  },
  {
   "cell_type": "code",
   "execution_count": null,
   "metadata": {},
   "outputs": [],
   "source": []
  },
  {
   "cell_type": "markdown",
   "metadata": {},
   "source": [
    "### Changes Analysis"
   ]
  },
  {
   "cell_type": "code",
   "execution_count": 362,
   "metadata": {},
   "outputs": [
    {
     "name": "stdout",
     "output_type": "stream",
     "text": [
      "450\n",
      "['accountant', 'adviser', 'agent', 'analyst', 'animator', 'announcer', 'anthropologist', 'apprentice', 'archeologist', 'architect', 'archivist', 'artist', 'assistant', 'assessor', 'astrologer', 'astronomer', 'athlete', 'attendant', 'auctioneer', 'auditor', 'bailiff', 'baker', 'barber', 'bartender', 'basketmaker', 'beautician', 'beekeeper', 'bibliographer', 'biochemist', 'biologist', 'blacksmith', 'boilermaker', 'bookbinder', 'bookkeeper', 'bookmaker', 'bootmaker', 'botanist', 'breeder', 'brewer', 'bricklayer', 'broadcaster', 'broker', 'butcher', 'butler', 'buyer', 'cabinetmaker', 'captain', 'caretaker', 'carpenter', 'cartographer', 'cashier', 'ceramicist', 'ceo', 'chief', 'choreographer', 'cleaner', 'clerk', 'coach', 'collector', 'commentator', 'composer', 'conductor', 'confectioner', 'conservator', 'consultant', 'cook', 'cooper', 'counsellor', 'counselor', 'courtier', 'critic', 'croupier', 'crusher', 'curator', 'cutler', 'dancer', 'decorator', 'dentist', 'designer', 'detective', 'developer', 'digger', 'diplomat', 'director', 'dispatcher', 'diver', 'doorkeeper', 'dresser', 'dressmaker', 'driller', 'driver', 'dyer', 'ecologist', 'economist', 'editor', 'educator', 'electrician', 'embroiderer', 'engineer', 'engraver', 'environmentalist', 'ethnographer', 'expert', 'farmer', 'farrier', 'fitter', 'furrier', 'gardener', 'geneticist', 'geographer', 'geologist', 'geophysicist', 'gilder', 'glassmaker', 'glazier', 'goatherd', 'goldsmith', 'gravedigger', 'grinder', 'guard', 'guide', 'gunsmith', 'hairdresser', 'handler', 'hatter', 'healer', 'herbalist', 'historian', 'housekeeper', 'hydrologist', 'inspector', 'instructor', 'insulator', 'interpreter', 'investigator', 'janitor', 'jeweller', 'joiner', 'journalist', 'judge', 'keeper', 'knitter', 'labourer', 'laborer', 'lawyer', 'lecturer', 'librarian', 'lifeguard', 'lithographer', 'manager', 'manicurist', 'master', 'mathematician', 'mechanic', 'mechanician', 'melter', 'merchandiser', 'metallurgist', 'metalworker', 'meteorologist', 'microbiologist', 'miller', 'miner', 'model', 'modeller', 'mover', 'musician', 'musicologist', 'naturalist', 'nurse', 'nutritionist', 'obstetrician', 'officer', 'operator', 'optician', 'optometrist', 'organiser', 'owner', 'packer', 'paediatrician', 'painter', 'paramedic', 'paver', 'pawnbroker', 'performer', 'pharmacist', 'philosopher', 'photographer', 'physicist', 'physiotherapist', 'pilot', 'planner', 'plumber', 'pollster', 'porter', 'potter', 'priest', 'producer', 'programmer', 'projectionist', 'prompter', 'prosecutor', 'psychiatrist', 'psychologist', 'psychotherapist', 'physician', 'publisher', 'radiographer', 'receptionist', 'referee', 'refiner', 'registrar', 'repairer', 'reporter', 'representative', 'rescuer', 'researcher', 'rigger', 'roaster', 'roofer', 'salesperson', 'scientist', 'scriptwriter', 'sculptor', 'secretary', 'sewer', 'shepherd', 'shoemaker', 'sheriff', 'shunter', 'singer', 'smith', 'soldier', 'solicitor', 'songwriter', 'specialist', 'spinner', 'staff', 'statistician', 'steelworker', 'stockbroker', 'stonecutter', 'stonemason', 'storekeeper', 'supervisor', 'surgeon', 'surveyor', 'sweep', 'tailor', 'tamer', 'tanner', 'tannery', 'teacher', 'technician', 'technologist', 'telecaster', 'teller', 'therapist', 'tinsmith', 'toolmaker', 'trainer', 'translator', 'traveller', 'tuner', 'turner', 'tutor', 'typesetter', 'upholsterer', 'valuer', 'vendor', 'warden', 'washer', 'weaver', 'whaler', 'worker', 'writer', 'zookeeper', 'advocate', 'neurologist', 'sailor', 'cartoonist', 'observer', 'epidemiologist', 'midfielder', 'footballer', 'photojournalist', 'cardiologist', 'ambassador', 'magician', 'saxophonist', 'compositor', 'prisoner', 'undersecretary', 'pundit', 'welder', 'lumberjack', 'commander', 'filmmaker', 'paralegal', 'banker', 'treasurer', 'student', 'chiropractor', 'legislator', 'cabbie', 'philanthropist', 'deputy', 'custodian', 'boxer', 'president', 'industrialist', 'infielder', 'comedian', 'trooper', 'lieutenant', 'wrestler', 'ranger', 'chancellor', 'stylist', 'trucker', 'entertainer', 'clergy', 'aide', 'socialite', 'mediator', 'crooner', 'lyricist', 'playwright', 'homemaker', 'understudy', 'proprietor', 'soloist', 'cop', 'tycoon', 'official', 'columnist', 'trader', 'adventurer', 'evangelist', 'attorney', 'principal', 'boss', 'correspondent', 'sergeant', 'shopkeeper', 'assassin', 'warrior', 'drummer', 'sales', 'bureaucrat', 'substitute', 'pianist', 'citizen', 'poet', 'constable', 'preacher', 'guitarist', 'missionary', 'colonel', 'gangster', 'minister', 'pastor', 'trumpeter', 'veterinarian', 'baron', 'promoter', 'lawmaker', 'mobster', 'sportswriter', 'professor', 'ballplayer', 'commissioner', 'goalkeeper', 'clerical', 'bodyguard', 'narrator', 'restaurateur', 'scholar', 'chemist', 'campaigner', 'saint', 'sociologist', 'protagonist', 'crusader', 'organist', 'magistrate', 'skipper', 'pathologist', 'publicist', 'mason', 'doctor', 'machinist', 'setter', 'barrister', 'comic', 'firefighter', 'superintendent', 'jurist', 'violinist', 'dean', 'maestro', 'conservationist', 'plasterer', 'administrator', 'vocalist', 'dietitian', 'archaeologist', 'parishioner', 'valedictorian', 'jeweler', 'millwright', 'employee', 'screenwriter', 'servant', 'dermatologist', 'novelist', 'headmaster', 'illustrator', 'cleric', 'neurosurgeon', 'senator', 'police', 'inventor', 'pediatrician', 'entrepreneur', 'hooker', 'marshal', 'astronaut', 'strategist', 'confesses', 'medic', 'negotiator', 'envoy', 'swimmer', 'politician', 'protester', 'character', 'provost', 'parliamentarian', 'chaplain', 'protege', 'financier', 'author', 'radiologist', 'chef', 'cinematographer', 'realtor', 'cellist', 'firebrand', 'councilor']\n"
     ]
    }
   ],
   "source": [
    "#jobs_changes = set([x[0] for x in jobs_eSG_neutral_biasedmale]+[x[0] for x in jobs_SG_neutral_biasedmale]+[x[0] for x in jobs_eSG_neutral_biasedfemale]+[x[0] for x in jobs_SG_neutral_biasedfemale])\n",
    "\n",
    "#jobs_changes = list(jobs_neutral_biased_male)+list(jobs_neutral_biased_female)\n",
    "\n",
    "jobs_changes = [x[0] for x in job_tuples['orig'] if x[1]=='n']\n",
    "\n",
    "print (len(jobs_changes))\n",
    "print (jobs_changes)"
   ]
  },
  {
   "cell_type": "code",
   "execution_count": 363,
   "metadata": {},
   "outputs": [
    {
     "name": "stdout",
     "output_type": "stream",
     "text": [
      "done\n"
     ]
    }
   ],
   "source": [
    "bias_changes_all_scaled_relative = {}\n",
    "bias_changes_all_scaled = {}\n",
    "\n",
    "for _manip_i, _manip in enumerate(manipluated_list):\n",
    "    if _manip=='orig':\n",
    "        continue\n",
    "    bias_changes_all_scaled_relative[_manip] = []\n",
    "    bias_changes_all_scaled[_manip] = []\n",
    "\n",
    "    for x_job in jobs_changes:#list(jobs_neutral_biased_male)+list(jobs_neutral_biased_female):#[x[0] for x in job_tuples['orig']]:\n",
    "    \n",
    "\n",
    "        _manip_before = manipluated_list[_manip_i-1]\n",
    "        \n",
    "        val1 = [x[1] for x in job_eSG_biases_scaled[_manip_before] if x[0] == x_job][0]\n",
    "        val2 = [x[1] for x in job_eSG_biases_scaled[_manip] if x[0] == x_job][0]\n",
    "        val3 = [x[1] for x in job_SG_femmasc_cosine_biases[_manip_before] if x[0] == x_job][0]\n",
    "        val4 = [x[1] for x in job_SG_femmasc_cosine_biases[_manip] if x[0] == x_job][0]\n",
    "        bias_changes_all_scaled[_manip].append([x_job,\n",
    "                             [val1, val2], [val3, val4]])\n",
    "\n",
    "        val1 = [x[1] for x in job_eSG_biases_scaled[_manip_before] if x[0] == x_job][0]\n",
    "        val2 = [x[1] for x in job_eSG_biases_scaled[_manip] if x[0] == x_job][0]\n",
    "        val3 = [x[1] for x in job_SG_femmasc_cosine_biases[_manip_before] if x[0] == x_job][0]\n",
    "        val4 = [x[1] for x in job_SG_femmasc_cosine_biases[_manip] if x[0] == x_job][0]\n",
    "        bias_changes_all_scaled_relative[_manip].append([x_job, abs((val2-val1)/val1), abs((val4-val3)/val3)])\n",
    "\n",
    "\n",
    "print ('done')"
   ]
  },
  {
   "cell_type": "code",
   "execution_count": 364,
   "metadata": {},
   "outputs": [
    {
     "name": "stdout",
     "output_type": "stream",
     "text": [
      "swapped#0.5\n",
      "absolute differences\n",
      "0.04476590183174194 0.0453326290499026\n",
      "0.037218359990252387 0.02379672621917823\n",
      "\n",
      "relative differences\n",
      "2.184291531958651 24.911551054021185\n",
      "0.9336046998786315 2.336427486406899\n",
      "\n",
      "\n",
      "swapped#1.0\n",
      "absolute differences\n",
      "0.01696901398705629 0.017351095064210918\n",
      "0.012363591955767738 0.009877199052391601\n",
      "\n",
      "relative differences\n",
      "2.3010402805689862 16.841925168040056\n",
      "3.7895753913592776 27.25526810888127\n",
      "\n",
      "\n"
     ]
    }
   ],
   "source": [
    "for _manip in manipluated_list:\n",
    "    if _manip=='orig':\n",
    "        continue\n",
    "    _bias_diff_eSG = [abs(x[1][1] - x[1][0]) for x in bias_changes_all_scaled[_manip]]\n",
    "    _bias_diff_SG = [abs(x[2][1] - x[2][0]) for x in bias_changes_all_scaled[_manip]]\n",
    "    _bias_diff_eSG_relative = [abs(x[1]) for x in bias_changes_all_scaled_relative[_manip]]\n",
    "    _bias_diff_SG_relative = [abs(x[2]) for x in bias_changes_all_scaled_relative[_manip]]\n",
    "    \n",
    "    print (_manip)\n",
    "    print ('absolute differences')\n",
    "    print (np.mean(_bias_diff_eSG), np.std(_bias_diff_eSG)) \n",
    "    print (np.mean(_bias_diff_SG), np.std(_bias_diff_SG)) \n",
    "    print ()\n",
    "    print ('relative differences')\n",
    "    print (np.mean(_bias_diff_eSG_relative), np.std(_bias_diff_eSG_relative)) \n",
    "    print (np.mean(_bias_diff_SG_relative), np.std(_bias_diff_SG_relative)) \n",
    "    print ()\n",
    "    print ()"
   ]
  },
  {
   "cell_type": "code",
   "execution_count": 233,
   "metadata": {},
   "outputs": [
    {
     "data": {
      "text/plain": [
       "-0.0045418391257709065"
      ]
     },
     "execution_count": 233,
     "metadata": {},
     "output_type": "execute_result"
    }
   ],
   "source": []
  },
  {
   "cell_type": "code",
   "execution_count": null,
   "metadata": {},
   "outputs": [],
   "source": []
  },
  {
   "cell_type": "code",
   "execution_count": null,
   "metadata": {},
   "outputs": [],
   "source": []
  },
  {
   "cell_type": "code",
   "execution_count": null,
   "metadata": {},
   "outputs": [],
   "source": []
  },
  {
   "cell_type": "code",
   "execution_count": null,
   "metadata": {},
   "outputs": [],
   "source": []
  },
  {
   "cell_type": "code",
   "execution_count": null,
   "metadata": {},
   "outputs": [],
   "source": []
  },
  {
   "cell_type": "code",
   "execution_count": null,
   "metadata": {
    "scrolled": true
   },
   "outputs": [],
   "source": []
  },
  {
   "cell_type": "code",
   "execution_count": null,
   "metadata": {},
   "outputs": [],
   "source": []
  },
  {
   "cell_type": "code",
   "execution_count": null,
   "metadata": {},
   "outputs": [],
   "source": []
  },
  {
   "cell_type": "code",
   "execution_count": null,
   "metadata": {},
   "outputs": [],
   "source": []
  },
  {
   "cell_type": "code",
   "execution_count": null,
   "metadata": {},
   "outputs": [],
   "source": []
  },
  {
   "cell_type": "code",
   "execution_count": null,
   "metadata": {},
   "outputs": [],
   "source": []
  }
 ],
 "metadata": {
  "kernelspec": {
   "display_name": "Python 3",
   "language": "python",
   "name": "python3"
  },
  "language_info": {
   "codemirror_mode": {
    "name": "ipython",
    "version": 3
   },
   "file_extension": ".py",
   "mimetype": "text/x-python",
   "name": "python",
   "nbconvert_exporter": "python",
   "pygments_lexer": "ipython3",
   "version": "3.7.4"
  }
 },
 "nbformat": 4,
 "nbformat_minor": 1
}
