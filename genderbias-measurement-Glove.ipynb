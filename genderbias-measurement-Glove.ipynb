{
 "cells": [
  {
   "cell_type": "code",
   "execution_count": 1,
   "metadata": {},
   "outputs": [
    {
     "name": "stdout",
     "output_type": "stream",
     "text": [
      "Populating the interactive namespace from numpy and matplotlib\n"
     ]
    }
   ],
   "source": [
    "%pylab inline\n",
    "import matplotlib.pyplot as plt\n"
   ]
  },
  {
   "cell_type": "code",
   "execution_count": 2,
   "metadata": {},
   "outputs": [],
   "source": [
    "import os\n",
    "from scipy.stats import ttest_rel\n",
    "import copy\n",
    "import pickle\n",
    "import pandas as pd\n",
    "import copy\n",
    "\n",
    "from sklearn.preprocessing import MinMaxScaler\n",
    "\n",
    "\n",
    "import numpy as np\n",
    "from numpy import linalg as LA\n",
    "import scipy\n",
    "from scipy.sparse import csr_matrix\n",
    "from sklearn import preprocessing\n",
    "\n",
    "from gensim.models import Word2Vec\n",
    "from gensim import utils\n",
    "from gensim.corpora import Dictionary\n",
    "from gensim.models.lsimodel import LsiModel\n",
    "\n",
    "\n",
    "from scipy.stats.stats import spearmanr\n",
    "from scipy.stats.stats import pearsonr\n",
    "\n",
    "from sklearn.preprocessing import MinMaxScaler\n",
    "\n",
    "from sklearn.decomposition import PCA"
   ]
  },
  {
   "cell_type": "code",
   "execution_count": 3,
   "metadata": {},
   "outputs": [],
   "source": [
    "we_vector_size = 300\n",
    "glove_we_model_dir = \"wordembeddings/glove/wikipedia/wiki-english-20171001/GloVe/\"\n"
   ]
  },
  {
   "cell_type": "code",
   "execution_count": 4,
   "metadata": {
    "scrolled": false
   },
   "outputs": [
    {
     "name": "stdout",
     "output_type": "stream",
     "text": [
      "loading done!\n"
     ]
    }
   ],
   "source": [
    "glove_we_vocabs = []\n",
    "glove_we_vectors = []\n",
    "glove_we_biases = []\n",
    "glove_we_ctx_vectors = []\n",
    "glove_we_ctx_biases = []\n",
    "with open(glove_we_model_dir+'/vectors.txt', 'r') as fr:\n",
    "    for line in fr:\n",
    "        vals = line.strip().split()\n",
    "        glove_we_vocabs.append(vals[0])\n",
    "        glove_we_vectors.append([float(x) for x in vals[1:1+we_vector_size]])\n",
    "        glove_we_biases.append([float(x) for x in vals[1+we_vector_size:2+we_vector_size]][0])\n",
    "        glove_we_ctx_vectors.append([float(x) for x in vals[2+we_vector_size:2+2*we_vector_size]])\n",
    "        glove_we_ctx_biases.append([float(x) for x in vals[2+2*we_vector_size:]][0])\n",
    "        \n",
    "        \n",
    "glove_we_vocabs = np.array(glove_we_vocabs)\n",
    "glove_we_vectors = np.array(glove_we_vectors)\n",
    "glove_we_biases = np.array(glove_we_biases)\n",
    "glove_we_ctx_vectors = np.array(glove_we_ctx_vectors)\n",
    "glove_we_ctx_biases = np.array(glove_we_ctx_biases)\n",
    "\n",
    "print ('loading done!')"
   ]
  },
  {
   "cell_type": "code",
   "execution_count": 5,
   "metadata": {},
   "outputs": [],
   "source": [
    "glove_we_vocabs_indextowords = {}\n",
    "for v_i, v in enumerate(glove_we_vocabs):\n",
    "    glove_we_vocabs_indextowords[v] = v_i"
   ]
  },
  {
   "cell_type": "code",
   "execution_count": null,
   "metadata": {},
   "outputs": [],
   "source": []
  },
  {
   "cell_type": "code",
   "execution_count": 6,
   "metadata": {},
   "outputs": [
    {
     "data": {
      "text/plain": [
       "{'book': array([ 5.52318689,  5.43175299,  4.46455256, ...,  0.00788603,\n",
       "        -1.31117989, -1.35755048])}"
      ]
     },
     "execution_count": 6,
     "metadata": {},
     "output_type": "execute_result"
    }
   ],
   "source": [
    "def get_recGlove_vecs(words):\n",
    "    recGlove_vecs = {}\n",
    "    for word in words:\n",
    "        _idx = glove_we_vocabs_indextowords[word]\n",
    "        _vec = glove_we_vectors[_idx]\n",
    "        \n",
    "        recGlove_vecs[word] = np.dot(glove_we_ctx_vectors, _vec)\n",
    "\n",
    "    return recGlove_vecs\n",
    "\n",
    "get_recGlove_vecs(['book'])"
   ]
  },
  {
   "cell_type": "code",
   "execution_count": null,
   "metadata": {},
   "outputs": [],
   "source": []
  },
  {
   "cell_type": "code",
   "execution_count": 7,
   "metadata": {},
   "outputs": [
    {
     "data": {
      "text/plain": [
       "{'book': 1.0, 'library': 0.7135090843891218}"
      ]
     },
     "execution_count": 7,
     "metadata": {},
     "output_type": "execute_result"
    }
   ],
   "source": [
    "def Cosine(vec1, vec2):\n",
    "    return 1 - scipy.spatial.distance.cosine(vec1, vec2)\n",
    "\n",
    "def NegDifNorm(vec1, vec2):\n",
    "    return -np.linalg.norm((vec1/np.linalg.norm(vec1)) - (vec2/np.linalg.norm(vec2)))\n",
    "\n",
    "def meanCosine(vec, set_vecs):\n",
    "    return np.mean([Cosine(vec, _set_vec) for _set_vec in set_vecs])\n",
    "\n",
    "\n",
    "def get_recGlove_vecs_similarity(word_from, words_to):\n",
    "    recGlove_vecs_from = get_recGlove_vecs([word_from])\n",
    "    recGlove_vecs_to = get_recGlove_vecs(words_to)\n",
    "    \n",
    "    sims_recGlove={}\n",
    "    for word_to in words_to:\n",
    "        if word_to in glove_we_vocabs:\n",
    "            sims_recGlove[word_to] = Cosine(recGlove_vecs_from[word_from], recGlove_vecs_to[word_to])\n",
    "    \n",
    "    return sims_recGlove\n",
    "\n",
    "get_recGlove_vecs_similarity('book', ['book', 'library'])"
   ]
  },
  {
   "cell_type": "markdown",
   "metadata": {
    "collapsed": true
   },
   "source": [
    "## Gender Biasing Quantification"
   ]
  },
  {
   "cell_type": "code",
   "execution_count": 8,
   "metadata": {},
   "outputs": [
    {
     "name": "stdout",
     "output_type": "stream",
     "text": [
      "497\n"
     ]
    }
   ],
   "source": [
    "job_tuples=[]\n",
    "with open('resources/wordlist_occupations.txt') as fr:\n",
    "    for l in fr:\n",
    "        _tuple=l.strip('\\n').split(',')\n",
    "        if _tuple[0] in glove_we_vocabs:\n",
    "            job_tuples.append(_tuple)\n",
    "print (len(job_tuples))\n",
    "job_recGlove_vecs = get_recGlove_vecs([x[0] for x in job_tuples])\n"
   ]
  },
  {
   "cell_type": "code",
   "execution_count": 9,
   "metadata": {},
   "outputs": [
    {
     "name": "stdout",
     "output_type": "stream",
     "text": [
      "28\n"
     ]
    }
   ],
   "source": [
    "wordpairs_debiasing_direction = []\n",
    "with open('resources/wordpairs_direction.txt') as fr:\n",
    "    for l in fr:\n",
    "        wordpairs_debiasing_direction.append(l.strip().split(','))\n",
    "print (len(wordpairs_debiasing_direction))\n",
    "\n"
   ]
  },
  {
   "cell_type": "code",
   "execution_count": 10,
   "metadata": {},
   "outputs": [
    {
     "name": "stdout",
     "output_type": "stream",
     "text": [
      "56\n"
     ]
    }
   ],
   "source": [
    "Glove_genderword_tuples = []\n",
    "\n",
    "with open('resources/wordlist_genderspecific.txt') as fr:\n",
    "    for l in fr:\n",
    "        _tuple=l.strip('\\n').split(',')\n",
    "        if _tuple[0] in glove_we_vocabs:\n",
    "            _idx = glove_we_vocabs_indextowords[_tuple[0]]\n",
    "            Glove_genderword_tuples.append((_tuple[0], _tuple[1], _idx))\n",
    "print (len(Glove_genderword_tuples))\n",
    "genderword_recGlove_vecs = get_recGlove_vecs([x[0] for x in Glove_genderword_tuples])\n"
   ]
  },
  {
   "cell_type": "code",
   "execution_count": null,
   "metadata": {},
   "outputs": [],
   "source": []
  },
  {
   "cell_type": "code",
   "execution_count": 11,
   "metadata": {},
   "outputs": [],
   "source": [
    "fem_Glove_vecs = []\n",
    "masc_Glove_vecs = []\n",
    "for _tuple in Glove_genderword_tuples:\n",
    "    if _tuple[1] == 'f':\n",
    "        fem_Glove_vecs.append(glove_we_vectors[glove_we_vocabs_indextowords[_tuple[0]]])\n",
    "    elif _tuple[1] == 'm':\n",
    "        masc_Glove_vecs.append(glove_we_vectors[glove_we_vocabs_indextowords[_tuple[0]]])\n",
    "    \n",
    "fem_Glove_centroid_vec = np.mean(np.array(fem_Glove_vecs), axis=0)\n",
    "masc_Glove_centroid_vec = np.mean(np.array(masc_Glove_vecs), axis=0)\n",
    "\n"
   ]
  },
  {
   "cell_type": "code",
   "execution_count": 12,
   "metadata": {},
   "outputs": [],
   "source": [
    "fem_recGlove_vecs = []\n",
    "masc_recGlove_vecs = []\n",
    "for _tuple in Glove_genderword_tuples:\n",
    "    _recGlove_vecs = get_recGlove_vecs([_tuple[0]])\n",
    "    _recGlove_vec = _recGlove_vecs[_tuple[0]]\n",
    "    if _tuple[1] == 'f':\n",
    "        fem_recGlove_vecs.append(_recGlove_vec)\n",
    "    elif _tuple[1] == 'm':\n",
    "        masc_recGlove_vecs.append(_recGlove_vec)\n",
    "    \n",
    "fem_recGlove_centroid_vec = np.mean(np.array(fem_recGlove_vecs), axis=0)\n",
    "masc_recGlove_centroid_vec = np.mean(np.array(masc_recGlove_vecs), axis=0)\n"
   ]
  },
  {
   "cell_type": "code",
   "execution_count": null,
   "metadata": {},
   "outputs": [],
   "source": []
  },
  {
   "cell_type": "code",
   "execution_count": 13,
   "metadata": {},
   "outputs": [],
   "source": [
    "#Gender direction\n",
    "\n",
    "_matrix_Glove = []\n",
    "_matrix_recGlove = []\n",
    "for a, b in wordpairs_debiasing_direction:\n",
    "    _a_Glove_vec = glove_we_vectors[glove_we_vocabs_indextowords[a]]\n",
    "    _b_Glove_vec = glove_we_vectors[glove_we_vocabs_indextowords[b]]\n",
    "    _a_Glove_vec_norm = _a_Glove_vec/np.linalg.norm(_a_Glove_vec)\n",
    "    _b_Glove_vec_norm = _b_Glove_vec/np.linalg.norm(_b_Glove_vec)\n",
    "    _center_Glove_vec = (_a_Glove_vec_norm + _b_Glove_vec_norm)/2\n",
    "    _matrix_Glove.append(_a_Glove_vec_norm - _center_Glove_vec)\n",
    "    _matrix_Glove.append(_b_Glove_vec_norm - _center_Glove_vec)\n",
    "    \n",
    "    _recGlove_vecs = get_recGlove_vecs([a, b])\n",
    "    _a_recGlove_vec = _recGlove_vecs[a]\n",
    "    _b_recGlove_vec = _recGlove_vecs[b]\n",
    "    _a_recGlove_vec_norm = _a_recGlove_vec/np.linalg.norm(_a_recGlove_vec)\n",
    "    _b_recGlove_vec_norm = _b_recGlove_vec/np.linalg.norm(_b_recGlove_vec)\n",
    "    _center_recGlove_vec = (_a_recGlove_vec_norm + _b_recGlove_vec_norm)/2\n",
    "    _matrix_recGlove.append(_a_recGlove_vec_norm - _center_recGlove_vec)\n",
    "    _matrix_recGlove.append(_b_recGlove_vec_norm - _center_recGlove_vec)\n",
    "\n",
    "_matrix_Glove = np.array(_matrix_Glove)\n",
    "_matrix_recGlove = np.array(_matrix_recGlove)\n",
    "pca = PCA(n_components = 10)\n",
    "gendir_Glove_vec = pca.fit(_matrix_Glove).components_[0]\n",
    "gendir_recGlove_vec = pca.fit(_matrix_recGlove).components_[0]\n",
    "\n",
    "\n"
   ]
  },
  {
   "cell_type": "code",
   "execution_count": 14,
   "metadata": {},
   "outputs": [],
   "source": [
    "Glove_fem_exp_feature_vec = np.zeros(len(glove_we_vocabs))\n",
    "Glove_masc_exp_feature_vec = np.zeros(len(glove_we_vocabs))\n",
    "for _tuple in Glove_genderword_tuples:\n",
    "    if _tuple[1] == 'f':\n",
    "        Glove_fem_exp_feature_vec[_tuple[2]] = 1\n",
    "    elif _tuple[1] == 'm':\n",
    "        Glove_masc_exp_feature_vec[_tuple[2]] = 1\n"
   ]
  },
  {
   "cell_type": "code",
   "execution_count": 15,
   "metadata": {},
   "outputs": [
    {
     "name": "stdout",
     "output_type": "stream",
     "text": [
      "28 28\n"
     ]
    }
   ],
   "source": [
    "print (len([x for x in Glove_genderword_tuples if x[1]=='f']), len([x for x in Glove_genderword_tuples if x[1]=='m']))"
   ]
  },
  {
   "cell_type": "markdown",
   "metadata": {},
   "source": [
    "### calculating bias"
   ]
  },
  {
   "cell_type": "code",
   "execution_count": 16,
   "metadata": {},
   "outputs": [],
   "source": [
    "job_recGlove_1st_mean_bias = []\n",
    "for job_tuple in job_tuples:\n",
    "    _vec = job_recGlove_vecs[job_tuple[0]]\n",
    "    job_recGlove_1st_mean_bias.append((job_tuple[0], np.dot(_vec, Glove_fem_exp_feature_vec)/np.sum(Glove_fem_exp_feature_vec) - np.dot(_vec, Glove_masc_exp_feature_vec)/np.sum(Glove_masc_exp_feature_vec),\n",
    "                                       np.dot(_vec, Glove_fem_exp_feature_vec)/np.sum(Glove_fem_exp_feature_vec), \n",
    "                                       np.dot(_vec, Glove_masc_exp_feature_vec)/np.sum(Glove_masc_exp_feature_vec), job_tuple[1]))\n",
    "    \n",
    "job_recGlove_1st_mean_bias.sort(key=lambda x: x[1])\n",
    "\n"
   ]
  },
  {
   "cell_type": "code",
   "execution_count": null,
   "metadata": {},
   "outputs": [],
   "source": [
    "job_recGlove_2nd_gendir_bias = []\n",
    "for job_tuple in job_tuples:\n",
    "    _vec = job_recGlove_vecs[job_tuple[0]]\n",
    "    job_recGlove_2nd_gendir_bias.append((job_tuple[0], np.dot(_vec, gendir_recGlove_vec), 0.0, 0.0, job_tuple[1]))\n",
    "    \n",
    "job_recGlove_2nd_gendir_bias.sort(key=lambda x: x[1])\n",
    "\n"
   ]
  },
  {
   "cell_type": "code",
   "execution_count": 30,
   "metadata": {},
   "outputs": [],
   "source": [
    "job_recGlove_2nd_centroid_bias = []\n",
    "for job_tuple in job_tuples:\n",
    "    _vec = job_recGlove_vecs[job_tuple[0]]\n",
    "    job_recGlove_2nd_centroid_bias.append((job_tuple[0], Cosine(_vec, fem_recGlove_centroid_vec) - Cosine(_vec, masc_recGlove_centroid_vec),\n",
    "                              Cosine(_vec, fem_recGlove_centroid_vec), Cosine(_vec, masc_recGlove_centroid_vec), job_tuple[1]))\n",
    "    \n",
    "job_recGlove_2nd_centroid_bias.sort(key=lambda x: x[1])\n"
   ]
  },
  {
   "cell_type": "code",
   "execution_count": 110,
   "metadata": {},
   "outputs": [],
   "source": []
  },
  {
   "cell_type": "code",
   "execution_count": 20,
   "metadata": {},
   "outputs": [],
   "source": [
    "\n",
    "\n",
    "job_recGlove_2nd_mean_bias = []\n",
    "for job_tuple in job_tuples:\n",
    "    _vec = job_recGlove_vecs[job_tuple[0]]\n",
    "    job_recGlove_2nd_mean_bias.append((job_tuple[0], meanCosine(_vec, fem_recGlove_vecs) - meanCosine(_vec, masc_recGlove_vecs),\n",
    "                              meanCosine(_vec, fem_recGlove_vecs), meanCosine(_vec, masc_recGlove_vecs), job_tuple[1]))\n",
    "    \n",
    "job_recGlove_2nd_mean_bias.sort(key=lambda x: x[1])\n",
    "\n",
    "\n",
    "\n"
   ]
  },
  {
   "cell_type": "code",
   "execution_count": 112,
   "metadata": {},
   "outputs": [],
   "source": []
  },
  {
   "cell_type": "code",
   "execution_count": 18,
   "metadata": {},
   "outputs": [],
   "source": [
    "job_Glove_2nd_gendir_bias = []\n",
    "for job_tuple in job_tuples:\n",
    "    _vec = glove_we_vectors[glove_we_vocabs_indextowords[job_tuple[0]]]\n",
    "    job_Glove_2nd_gendir_bias.append((job_tuple[0], np.dot(_vec, gendir_Glove_vec), 0.0, 0.0, job_tuple[1]))\n",
    "    \n",
    "job_Glove_2nd_gendir_bias.sort(key=lambda x: x[1])\n",
    "\n",
    "\n"
   ]
  },
  {
   "cell_type": "code",
   "execution_count": 19,
   "metadata": {},
   "outputs": [],
   "source": [
    "\n",
    "\n",
    "job_Glove_2nd_mean_bias = []\n",
    "for job_tuple in job_tuples:\n",
    "    _vec = glove_we_vectors[glove_we_vocabs_indextowords[job_tuple[0]]]\n",
    "    job_Glove_2nd_mean_bias.append((job_tuple[0], meanCosine(_vec, fem_Glove_vecs) - meanCosine(_vec, masc_Glove_vecs),\n",
    "                              meanCosine(_vec, fem_Glove_vecs), meanCosine(_vec, masc_Glove_vecs), job_tuple[1]))\n",
    "    \n",
    "job_Glove_2nd_mean_bias.sort(key=lambda x: x[1])\n",
    "\n",
    "\n"
   ]
  },
  {
   "cell_type": "code",
   "execution_count": 31,
   "metadata": {},
   "outputs": [],
   "source": [
    "job_Glove_2nd_centroid_bias = []\n",
    "for job_tuple in job_tuples:\n",
    "    _vec = glove_we_vectors[glove_we_vocabs_indextowords[job_tuple[0]]]\n",
    "    job_Glove_2nd_centroid_bias.append((job_tuple[0], Cosine(_vec, fem_Glove_centroid_vec) - Cosine(_vec, masc_Glove_centroid_vec),\n",
    "                              Cosine(_vec, fem_Glove_centroid_vec), Cosine(_vec, masc_Glove_centroid_vec), job_tuple[1]))\n",
    "    \n",
    "job_Glove_2nd_centroid_bias.sort(key=lambda x: x[1])\n",
    "\n"
   ]
  },
  {
   "cell_type": "markdown",
   "metadata": {},
   "source": [
    "## Correlation to Occupation Statistics"
   ]
  },
  {
   "cell_type": "code",
   "execution_count": 32,
   "metadata": {},
   "outputs": [
    {
     "name": "stdout",
     "output_type": "stream",
     "text": [
      "40\n",
      "96\n"
     ]
    }
   ],
   "source": [
    "\n",
    "winobias_stats=[]\n",
    "with open('resources/occupations_stats_winobias.txt') as fr:\n",
    "    for l in fr:\n",
    "        _tuple=l.strip('\\n').split(',')\n",
    "        winobias_stats.append((_tuple[0], float(_tuple[1])))\n",
    "print (len(winobias_stats))\n",
    "\n",
    "census_stats=[]\n",
    "with open('resources/occupations_stats_census.txt') as fr:\n",
    "    for l in fr:\n",
    "        _tuple=l.strip('\\n').split(',')\n",
    "        census_stats.append((_tuple[0], float(_tuple[1])))\n",
    "print (len(census_stats))\n"
   ]
  },
  {
   "cell_type": "code",
   "execution_count": null,
   "metadata": {},
   "outputs": [],
   "source": []
  },
  {
   "cell_type": "code",
   "execution_count": 33,
   "metadata": {
    "scrolled": false
   },
   "outputs": [
    {
     "name": "stdout",
     "output_type": "stream",
     "text": [
      "WinoBias\n",
      "----------\n",
      "Spearman\n",
      "   recGlove_1st_mean 0.56\n",
      "   recGlove_2nd_mean 0.48\n",
      "recGlove_2nd_centroid 0.48\n",
      " recGlove_2nd_gendir 0.35\n",
      "      Glove_2nd_mean 0.60\n",
      "  Glove_2nd_centroid 0.58\n",
      "    Glove_2nd_gendir 0.53\n",
      "\n",
      "Pearson\n",
      "   recGlove_1st_mean 0.57\n",
      "   recGlove_2nd_mean 0.51\n",
      "recGlove_2nd_centroid 0.52\n",
      " recGlove_2nd_gendir 0.34\n",
      "      Glove_2nd_mean 0.61\n",
      "  Glove_2nd_centroid 0.60\n",
      "    Glove_2nd_gendir 0.56\n",
      "\n",
      "**********\n",
      "U.S. Census Database\n",
      "Spearman\n",
      "   recGlove_1st_mean 0.42\n",
      "   recGlove_2nd_mean 0.16\n",
      "recGlove_2nd_centroid 0.24\n",
      " recGlove_2nd_gendir 0.07\n",
      "      Glove_2nd_mean 0.39\n",
      "  Glove_2nd_centroid 0.39\n",
      "    Glove_2nd_gendir 0.34\n",
      "\n",
      "Pearson\n",
      "   recGlove_1st_mean 0.52\n",
      "   recGlove_2nd_mean 0.24\n",
      "recGlove_2nd_centroid 0.35\n",
      " recGlove_2nd_gendir 0.12\n",
      "      Glove_2nd_mean 0.51\n",
      "  Glove_2nd_centroid 0.51\n",
      "    Glove_2nd_gendir 0.46\n",
      "\n",
      "**********\n",
      "\n"
     ]
    }
   ],
   "source": [
    "from scipy.stats.stats import spearmanr\n",
    "from scipy.stats.stats import pearsonr\n",
    "\n",
    "def calc_correlations(_stats_jobs, _stats_bias):\n",
    "    job_bias_data = {'job_recGlove_1st_mean_bias':job_recGlove_1st_mean_bias,\n",
    "                     'job_recGlove_2nd_mean_bias':job_recGlove_2nd_mean_bias,\n",
    "                     'job_recGlove_2nd_centroid_bias':job_recGlove_2nd_centroid_bias,\n",
    "                     'job_recGlove_2nd_gendir_bias':job_recGlove_2nd_gendir_bias,\n",
    "                     'job_Glove_2nd_mean_bias':job_Glove_2nd_mean_bias,\n",
    "                     'job_Glove_2nd_centroid_bias':job_Glove_2nd_centroid_bias,\n",
    "                     'job_Glove_2nd_gendir_bias':job_Glove_2nd_gendir_bias,\n",
    "                    }\n",
    "    labor_bias = {}\n",
    "    for _data_key in job_bias_data:\n",
    "        labor_bias[_data_key] = []\n",
    "    _idx = 1\n",
    "    for _job in _stats_jobs:\n",
    "        for _data_key in job_bias_data:\n",
    "            labor_bias[_data_key].append([x for x in job_bias_data[_data_key] if x[0]==_job][0][_idx])\n",
    "        \n",
    "    results = {'spearman':{}, 'pearson':{}}\n",
    "    print ('Spearman')\n",
    "    for _data_key in job_bias_data:\n",
    "        _text = _data_key.replace('job_', '').replace('_bias', '')\n",
    "        results['spearman'][_text] = abs(round(spearmanr(labor_bias[_data_key], _stats_bias).correlation, 2))\n",
    "        print (\"%20s %0.2f\" % (_text, results['spearman'][_text]))\n",
    "    print ()\n",
    "    print ('Pearson')\n",
    "    for _data_key in job_bias_data:\n",
    "        _text = _data_key.replace('job_', '').replace('_bias', '')\n",
    "        results['pearson'][_text] = abs(round(pearsonr(labor_bias[_data_key], _stats_bias)[0], 2))\n",
    "        print (\"%20s %0.2f\" % (_text, results['pearson'][_text]))\n",
    "    print ()\n",
    "    \n",
    "    return results\n",
    "    \n",
    "results = {}\n",
    "\n",
    "print (\"WinoBias\")\n",
    "print (\"----------\")\n",
    "results['winobias'] = calc_correlations([x[0] for x in winobias_stats], [x[1] for x in winobias_stats])\n",
    "print (\"**********\")\n",
    "#calc_correlations([x[0] for x in winobias_stats], [np.log((x[1]/100)/(1-(x[1]/100))) for x in winobias_stats])\n",
    "#print (\"**********\")\n",
    "#print ()\n",
    "print (\"U.S. Census Database\")\n",
    "#calc_correlations([x[0] for x in census_stats], [np.log(x[1]/(1-x[1])) for x in census_stats])\n",
    "#print (\"**********\")\n",
    "#print ()\n",
    "results['census'] = calc_correlations([x[0] for x in census_stats], [x[1] for x in census_stats])\n",
    "print (\"**********\")\n",
    "print ()\n",
    "\n",
    "\n",
    "\n"
   ]
  },
  {
   "cell_type": "code",
   "execution_count": null,
   "metadata": {},
   "outputs": [],
   "source": []
  },
  {
   "cell_type": "code",
   "execution_count": null,
   "metadata": {},
   "outputs": [],
   "source": []
  },
  {
   "cell_type": "code",
   "execution_count": 34,
   "metadata": {},
   "outputs": [
    {
     "name": "stdout",
     "output_type": "stream",
     "text": [
      "0.53 & 0.56 & 0.34 & 0.46\n",
      "0.60 & 0.61 & 0.39 & 0.51\n",
      "0.58 & 0.60 & 0.39 & 0.51\n",
      "0.35 & 0.34 & 0.07 & 0.12\n",
      "0.48 & 0.51 & 0.16 & 0.24\n",
      "0.48 & 0.52 & 0.24 & 0.35\n",
      "0.56 & 0.57 & 0.42 & 0.52\n"
     ]
    }
   ],
   "source": [
    "for x in ['Glove_2nd_gendir','Glove_2nd_mean','Glove_2nd_centroid',\n",
    "          'recGlove_2nd_gendir','recGlove_2nd_mean', 'recGlove_2nd_centroid', \n",
    "          'recGlove_1st_mean', ]:\n",
    "    print (\"%0.2f & %0.2f & %0.2f & %0.2f\" % (results['winobias']['spearman'][x],\n",
    "                                             results['winobias']['pearson'][x],\n",
    "                                             results['census']['spearman'][x],\n",
    "                                             results['census']['pearson'][x]))\n",
    "\n"
   ]
  },
  {
   "cell_type": "raw",
   "metadata": {},
   "source": []
  },
  {
   "cell_type": "code",
   "execution_count": null,
   "metadata": {},
   "outputs": [],
   "source": []
  },
  {
   "cell_type": "code",
   "execution_count": null,
   "metadata": {},
   "outputs": [],
   "source": []
  }
 ],
 "metadata": {
  "kernelspec": {
   "display_name": "Python 3",
   "language": "python",
   "name": "python3"
  },
  "language_info": {
   "codemirror_mode": {
    "name": "ipython",
    "version": 3
   },
   "file_extension": ".py",
   "mimetype": "text/x-python",
   "name": "python",
   "nbconvert_exporter": "python",
   "pygments_lexer": "ipython3",
   "version": "3.7.4"
  }
 },
 "nbformat": 4,
 "nbformat_minor": 1
}
