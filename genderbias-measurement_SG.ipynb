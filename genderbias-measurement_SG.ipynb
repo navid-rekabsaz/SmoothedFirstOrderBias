{
 "cells": [
  {
   "cell_type": "code",
   "execution_count": 1,
   "metadata": {},
   "outputs": [
    {
     "name": "stdout",
     "output_type": "stream",
     "text": [
      "Populating the interactive namespace from numpy and matplotlib\n"
     ]
    }
   ],
   "source": [
    "%pylab inline\n",
    "import matplotlib.pyplot as plt\n"
   ]
  },
  {
   "cell_type": "code",
   "execution_count": 2,
   "metadata": {},
   "outputs": [],
   "source": [
    "import os\n",
    "from scipy.stats import ttest_rel\n",
    "import copy\n",
    "import pickle\n",
    "import pandas as pd\n",
    "import copy\n",
    "\n",
    "from sklearn.preprocessing import MinMaxScaler\n",
    "\n",
    "\n",
    "import numpy as np\n",
    "from numpy import linalg as LA\n",
    "import scipy\n",
    "from scipy.sparse import csr_matrix\n",
    "from sklearn import preprocessing\n",
    "\n",
    "from gensim.models import Word2Vec\n",
    "from gensim import utils\n",
    "from gensim.corpora import Dictionary\n",
    "from gensim.models.lsimodel import LsiModel\n",
    "\n",
    "from scipy.stats.stats import spearmanr\n",
    "from scipy.stats.stats import pearsonr\n",
    "\n",
    "\n",
    "from sklearn.decomposition import PCA"
   ]
  },
  {
   "cell_type": "code",
   "execution_count": 3,
   "metadata": {},
   "outputs": [],
   "source": [
    "we_model_name = \"sg_dim300_min200_win5\"\n",
    "we_vector_size = 300\n",
    "\n",
    "we_model_dir = \"/share/home/navid/wordembeddings/word2vecgensim/wikipedia/wiki-english-20171001/%s\" % we_model_name\n"
   ]
  },
  {
   "cell_type": "code",
   "execution_count": 4,
   "metadata": {},
   "outputs": [
    {
     "name": "stdout",
     "output_type": "stream",
     "text": [
      "loading done!\n"
     ]
    }
   ],
   "source": [
    "we_model = Word2Vec.load(we_model_dir+'/model.gensim')\n",
    "\n",
    "print ('loading done!')"
   ]
  },
  {
   "cell_type": "code",
   "execution_count": 5,
   "metadata": {},
   "outputs": [
    {
     "data": {
      "text/plain": [
       "{'book': array([0.00565136, 0.02252608, 0.02769055, ..., 0.00346204, 0.00264165,\n",
       "        0.00321505], dtype=float32)}"
      ]
     },
     "execution_count": 5,
     "metadata": {},
     "output_type": "execute_result"
    }
   ],
   "source": [
    "def get_recSG_vecs(words):\n",
    "    \n",
    "    recSG_vecs = {}\n",
    "    for word in words:\n",
    "        _vec = we_model.wv[word]\n",
    "        \n",
    "        recSG_vecs[word] = scipy.special.expit(np.dot(we_model.trainables.syn1neg, _vec))\n",
    "        \n",
    "    return recSG_vecs\n",
    "\n",
    "get_recSG_vecs(['book'])"
   ]
  },
  {
   "cell_type": "code",
   "execution_count": 6,
   "metadata": {},
   "outputs": [
    {
     "data": {
      "text/plain": [
       "{'book': 1.0, 'library': 0.5894790887832642}"
      ]
     },
     "execution_count": 6,
     "metadata": {},
     "output_type": "execute_result"
    }
   ],
   "source": [
    "def Cosine(vec1, vec2):\n",
    "    return 1 - scipy.spatial.distance.cosine(vec1, vec2)\n",
    "\n",
    "def meanCosine(vec, set_vecs):\n",
    "    return np.mean([Cosine(vec, _set_vec) for _set_vec in set_vecs])\n",
    "\n",
    "def NegDifNorm(vec1, vec2):\n",
    "    return -np.linalg.norm((vec1/np.linalg.norm(vec1)) - (vec2/np.linalg.norm(vec2)))\n",
    "\n",
    "def get_recSG_vecs_similarity(word_from, words_to):\n",
    "    recSG_vecs_from = get_recSG_vecs([word_from])\n",
    "    recSG_vecs_to = get_recSG_vecs(words_to)\n",
    "    \n",
    "    sims_recSG={}\n",
    "    for word_to in words_to:\n",
    "        if word_to in we_model.wv.vocab:\n",
    "            sims_recSG[word_to] = Cosine(recSG_vecs_from[word_from], recSG_vecs_to[word_to])\n",
    "    \n",
    "    return sims_recSG\n",
    "\n",
    "get_recSG_vecs_similarity('book', ['book', 'library'])"
   ]
  },
  {
   "cell_type": "code",
   "execution_count": 7,
   "metadata": {},
   "outputs": [
    {
     "data": {
      "text/plain": [
       "197549"
      ]
     },
     "execution_count": 7,
     "metadata": {},
     "output_type": "execute_result"
    }
   ],
   "source": [
    "len(we_model.wv.vocab)"
   ]
  },
  {
   "cell_type": "markdown",
   "metadata": {
    "collapsed": true
   },
   "source": [
    "## Gender Biasing Quantification"
   ]
  },
  {
   "cell_type": "code",
   "execution_count": 8,
   "metadata": {
    "scrolled": false
   },
   "outputs": [
    {
     "name": "stdout",
     "output_type": "stream",
     "text": [
      "497\n"
     ]
    }
   ],
   "source": [
    "job_tuples=[]\n",
    "with open('resources/wordlist_occupations.txt') as fr:\n",
    "    for l in fr:\n",
    "        _tuple=l.strip('\\n').split(',')\n",
    "        if _tuple[0] in we_model.wv.vocab:\n",
    "            job_tuples.append(_tuple)\n",
    "print (len(job_tuples))\n",
    "\n"
   ]
  },
  {
   "cell_type": "code",
   "execution_count": 9,
   "metadata": {},
   "outputs": [
    {
     "name": "stdout",
     "output_type": "stream",
     "text": [
      "28\n"
     ]
    }
   ],
   "source": [
    "wordpairs_debiasing_direction = []\n",
    "with open('resources/wordpairs_direction.txt') as fr:\n",
    "    for l in fr:\n",
    "        wordpairs_debiasing_direction.append(l.strip().split(','))\n",
    "print (len(wordpairs_debiasing_direction))\n",
    "\n"
   ]
  },
  {
   "cell_type": "code",
   "execution_count": 10,
   "metadata": {},
   "outputs": [],
   "source": [
    "job_recSG_vecs = get_recSG_vecs([x[0] for x in job_tuples])\n"
   ]
  },
  {
   "cell_type": "code",
   "execution_count": null,
   "metadata": {},
   "outputs": [],
   "source": []
  },
  {
   "cell_type": "code",
   "execution_count": 11,
   "metadata": {},
   "outputs": [
    {
     "name": "stdout",
     "output_type": "stream",
     "text": [
      "28\n",
      "28\n"
     ]
    }
   ],
   "source": [
    "genderword_tuples = []\n",
    "\n",
    "with open('resources/wordlist_genderspecific.txt') as fr:\n",
    "    for l in fr:\n",
    "        _tuple=l.strip('\\n').split(',')\n",
    "        if _tuple[0] in we_model.wv.vocab:\n",
    "            _idx = we_model.wv.vocab[_tuple[0]].index\n",
    "            genderword_tuples.append((_tuple[0], _tuple[1], _idx))\n",
    "        else:\n",
    "            print (_tuple[0])\n",
    "print (len([x for x in genderword_tuples if x[1]=='f']))\n",
    "print (len([x for x in genderword_tuples if x[1]=='m']))\n",
    "\n"
   ]
  },
  {
   "cell_type": "code",
   "execution_count": null,
   "metadata": {},
   "outputs": [],
   "source": []
  },
  {
   "cell_type": "code",
   "execution_count": null,
   "metadata": {},
   "outputs": [],
   "source": []
  },
  {
   "cell_type": "code",
   "execution_count": 12,
   "metadata": {},
   "outputs": [],
   "source": [
    "fem_SG_vecs = []\n",
    "masc_SG_vecs = []\n",
    "fem_recSG_vecs = []\n",
    "masc_recSG_vecs = []\n",
    "for _tuple in genderword_tuples:\n",
    "    if _tuple[1] == 'f':\n",
    "        fem_SG_vecs.append(we_model.wv.vectors[we_model.wv.vocab[_tuple[0]].index])\n",
    "        fem_recSG_vecs.append(get_recSG_vecs([_tuple[0]])[_tuple[0]])\n",
    "    elif _tuple[1] == 'm':\n",
    "        masc_SG_vecs.append(we_model.wv.vectors[we_model.wv.vocab[_tuple[0]].index])\n",
    "        masc_recSG_vecs.append(get_recSG_vecs([_tuple[0]])[_tuple[0]])\n",
    "    \n",
    "fem_SG_centroid_vec = np.mean(np.array(fem_SG_vecs), axis=0)\n",
    "masc_SG_centroid_vec = np.mean(np.array(masc_SG_vecs), axis=0)\n",
    "fem_recSG_centroid_vec = np.mean(np.array(fem_recSG_vecs), axis=0)\n",
    "masc_recSG_centroid_vec = np.mean(np.array(masc_recSG_vecs), axis=0)\n",
    "\n"
   ]
  },
  {
   "cell_type": "code",
   "execution_count": null,
   "metadata": {},
   "outputs": [],
   "source": []
  },
  {
   "cell_type": "code",
   "execution_count": 13,
   "metadata": {},
   "outputs": [],
   "source": [
    "#Gender dirction dense\n",
    "\n",
    "_matrix_SG = []\n",
    "_matrix_recSG = []\n",
    "for a, b in wordpairs_debiasing_direction:\n",
    "    _a_SG_vec = we_model.wv[a]\n",
    "    _b_SG_vec = we_model.wv[b]\n",
    "    #_matrix_SG.append((_a_SG_vec/np.linalg.norm(_a_SG_vec)) - (_b_SG_vec/np.linalg.norm(_b_SG_vec)))\n",
    "    _matrix_SG.append((_a_SG_vec - _b_SG_vec)/2.0)\n",
    "    _matrix_SG.append((_b_SG_vec - _a_SG_vec)/2.0)\n",
    "    \n",
    "    _a_recSG_vec = get_recSG_vecs([a])[a]\n",
    "    _b_recSG_vec = get_recSG_vecs([b])[b]\n",
    "    _matrix_recSG.append((_a_recSG_vec - _b_recSG_vec)/2.0)\n",
    "    _matrix_recSG.append((_a_recSG_vec - _b_recSG_vec)/2.0)\n",
    "    \n",
    "\n",
    "_matrix_SG = np.array(_matrix_SG)\n",
    "_matrix_recSG = np.array(_matrix_recSG)\n",
    "\n",
    "pca = PCA(n_components = 10)\n",
    "gendir_SG_vec = pca.fit(_matrix_SG).components_[0]\n",
    "gendir_recSG_vec = pca.fit(_matrix_recSG).components_[0]\n",
    "\n",
    "\n"
   ]
  },
  {
   "cell_type": "code",
   "execution_count": null,
   "metadata": {},
   "outputs": [],
   "source": []
  },
  {
   "cell_type": "code",
   "execution_count": 14,
   "metadata": {},
   "outputs": [],
   "source": [
    "fem_exp_feature_vec = np.zeros(len(we_model.wv.vocab))\n",
    "masc_exp_feature_vec = np.zeros(len(we_model.wv.vocab))\n",
    "for _tuple in genderword_tuples:\n",
    "    if _tuple[1] == 'f':\n",
    "        fem_exp_feature_vec[_tuple[2]] = 1\n",
    "    elif _tuple[1] == 'm':\n",
    "        masc_exp_feature_vec[_tuple[2]] = 1\n"
   ]
  },
  {
   "cell_type": "code",
   "execution_count": 15,
   "metadata": {},
   "outputs": [
    {
     "name": "stdout",
     "output_type": "stream",
     "text": [
      "28 28\n"
     ]
    }
   ],
   "source": [
    "print (len([x for x in genderword_tuples if x[1]=='f']), len([x for x in genderword_tuples if x[1]=='m']))"
   ]
  },
  {
   "cell_type": "markdown",
   "metadata": {},
   "source": [
    "## Calculating bias"
   ]
  },
  {
   "cell_type": "code",
   "execution_count": 16,
   "metadata": {},
   "outputs": [],
   "source": [
    "job_recSG_1st_mean_bias = []\n",
    "for job_tuple in job_tuples:\n",
    "    _vec = job_recSG_vecs[job_tuple[0]]\n",
    "    job_recSG_1st_mean_bias.append((job_tuple[0], np.dot(_vec, fem_exp_feature_vec)/np.sum(fem_exp_feature_vec) - np.dot(_vec, masc_exp_feature_vec)/np.sum(masc_exp_feature_vec),\n",
    "                              np.dot(_vec, fem_exp_feature_vec)/np.sum(fem_exp_feature_vec), np.dot(_vec, masc_exp_feature_vec)/np.sum(masc_exp_feature_vec), job_tuple[1]))\n",
    "    \n",
    "job_recSG_1st_mean_bias.sort(key=lambda x: x[1])\n"
   ]
  },
  {
   "cell_type": "code",
   "execution_count": 17,
   "metadata": {},
   "outputs": [],
   "source": [
    "job_SG_2nd_gendir_bias = []\n",
    "for job_tuple in job_tuples:\n",
    "    _vec = we_model.wv[job_tuple[0]]\n",
    "    job_SG_2nd_gendir_bias.append((job_tuple[0], np.dot(_vec, gendir_SG_vec), 0.0, 0.0, job_tuple[1]))\n",
    "    \n",
    "job_SG_2nd_gendir_bias.sort(key=lambda x: x[1])\n"
   ]
  },
  {
   "cell_type": "code",
   "execution_count": 18,
   "metadata": {},
   "outputs": [],
   "source": [
    "job_SG_2nd_mean_bias = []\n",
    "for job_tuple in job_tuples:\n",
    "    _vec = we_model.wv.vectors[we_model.wv.vocab[job_tuple[0]].index]\n",
    "    job_SG_2nd_mean_bias.append((job_tuple[0], meanCosine(_vec, fem_SG_vecs) - meanCosine(_vec, masc_SG_vecs),\n",
    "                                 meanCosine(_vec, fem_SG_vecs), meanCosine(_vec, masc_SG_vecs), job_tuple[1]))\n",
    "    \n",
    "job_SG_2nd_mean_bias.sort(key=lambda x: x[1])\n",
    "\n"
   ]
  },
  {
   "cell_type": "code",
   "execution_count": 19,
   "metadata": {},
   "outputs": [],
   "source": [
    "job_recSG_2nd_gendir_bias = []\n",
    "for job_tuple in job_tuples:\n",
    "    _vec = job_recSG_vecs[job_tuple[0]]\n",
    "    job_recSG_2nd_gendir_bias.append((job_tuple[0], np.dot(_vec, gendir_recSG_vec), 0.0, 0.0, job_tuple[1]))\n",
    "    \n",
    "job_recSG_2nd_gendir_bias.sort(key=lambda x: x[1])\n",
    "\n"
   ]
  },
  {
   "cell_type": "code",
   "execution_count": 20,
   "metadata": {},
   "outputs": [],
   "source": [
    "job_recSG_2nd_mean_bias = []\n",
    "for job_tuple in job_tuples:\n",
    "    _vec = job_recSG_vecs[job_tuple[0]]\n",
    "    job_recSG_2nd_mean_bias.append((job_tuple[0], meanCosine(_vec, fem_recSG_vecs) - meanCosine(_vec, masc_recSG_vecs),\n",
    "                                 meanCosine(_vec, fem_recSG_vecs), meanCosine(_vec, masc_recSG_vecs), job_tuple[1]))\n",
    "    \n",
    "job_recSG_2nd_mean_bias.sort(key=lambda x: x[1])\n",
    "\n",
    "\n"
   ]
  },
  {
   "cell_type": "code",
   "execution_count": null,
   "metadata": {},
   "outputs": [],
   "source": []
  },
  {
   "cell_type": "code",
   "execution_count": null,
   "metadata": {},
   "outputs": [],
   "source": []
  },
  {
   "cell_type": "markdown",
   "metadata": {},
   "source": [
    "## Correlation to Occupation Statistics"
   ]
  },
  {
   "cell_type": "code",
   "execution_count": 21,
   "metadata": {},
   "outputs": [
    {
     "name": "stdout",
     "output_type": "stream",
     "text": [
      "40\n",
      "96\n"
     ]
    }
   ],
   "source": [
    "\n",
    "winobias_stats=[]\n",
    "with open('resources/occupations_stats_winobias.txt') as fr:\n",
    "    for l in fr:\n",
    "        _tuple=l.strip('\\n').split(',')\n",
    "        winobias_stats.append((_tuple[0], float(_tuple[1])))\n",
    "print (len(winobias_stats))\n",
    "\n",
    "census_stats=[]\n",
    "with open('resources/occupations_stats_census.txt') as fr:\n",
    "    for l in fr:\n",
    "        _tuple=l.strip('\\n').split(',')\n",
    "        census_stats.append((_tuple[0], float(_tuple[1])))\n",
    "print (len(census_stats))\n",
    "\n"
   ]
  },
  {
   "cell_type": "code",
   "execution_count": null,
   "metadata": {},
   "outputs": [],
   "source": []
  },
  {
   "cell_type": "code",
   "execution_count": 22,
   "metadata": {
    "scrolled": false
   },
   "outputs": [
    {
     "name": "stdout",
     "output_type": "stream",
     "text": [
      "WinoBias\n",
      "----------\n",
      "Spearman\n",
      "    recSG_2nd_gendir 0.13\n",
      "      recSG_2nd_mean 0.46\n",
      "      recSG_1st_mean 0.66\n",
      "\n",
      "Pearson\n",
      "    recSG_2nd_gendir 0.26\n",
      "      recSG_2nd_mean 0.48\n",
      "      recSG_1st_mean 0.61\n",
      "\n",
      "**********\n",
      "U.S. Census Database\n",
      "Spearman\n",
      "    recSG_2nd_gendir 0.08\n",
      "      recSG_2nd_mean 0.50\n",
      "      recSG_1st_mean 0.67\n",
      "\n",
      "Pearson\n",
      "    recSG_2nd_gendir 0.17\n",
      "      recSG_2nd_mean 0.57\n",
      "      recSG_1st_mean 0.70\n",
      "\n",
      "**********\n",
      "\n"
     ]
    }
   ],
   "source": [
    "from scipy.stats.stats import spearmanr\n",
    "from scipy.stats.stats import pearsonr\n",
    "\n",
    "\n",
    "def calc_correlations(_stats_jobs, _stats_bias):\n",
    "    job_bias_data = {\n",
    "        #'job_SG_2nd_gendir_bias':job_SG_2nd_gendir_bias,\n",
    "        #'job_SG_2nd_mean_bias':job_SG_2nd_mean_bias,\n",
    "        'job_recSG_2nd_gendir_bias':job_recSG_2nd_gendir_bias,\n",
    "        'job_recSG_2nd_mean_bias':job_recSG_2nd_mean_bias,\n",
    "        \n",
    "        'job_recSG_1st_mean_bias':job_recSG_1st_mean_bias,\n",
    "        #'job_recSG_1st_mean_bias_scaled':job_recSG_1st_mean_bias_scaled,\n",
    "                    }\n",
    "    labor_bias = {}\n",
    "    for _data_key in job_bias_data:\n",
    "        labor_bias[_data_key] = []\n",
    "    _idx = 1\n",
    "    for _job in _stats_jobs:\n",
    "        for _data_key in job_bias_data:\n",
    "            labor_bias[_data_key].append([x for x in job_bias_data[_data_key] if x[0]==_job][0][_idx])\n",
    "        \n",
    "    results = {'spearman':{}, 'pearson':{}}\n",
    "    print ('Spearman')\n",
    "    for _data_key in job_bias_data:\n",
    "        _text = _data_key.replace('job_', '').replace('_bias', '')\n",
    "        results['spearman'][_text] = abs(round(spearmanr(labor_bias[_data_key], _stats_bias).correlation, 2))\n",
    "        print (\"%20s %0.2f\" % (_text, results['spearman'][_text]))\n",
    "    print ()\n",
    "    print ('Pearson')\n",
    "    for _data_key in job_bias_data:\n",
    "        _text = _data_key.replace('job_', '').replace('_bias', '')\n",
    "        results['pearson'][_text] = abs(round(pearsonr(labor_bias[_data_key], _stats_bias)[0], 2))\n",
    "        print (\"%20s %0.2f\" % (_text, results['pearson'][_text]))\n",
    "    print ()\n",
    "    \n",
    "    return results\n",
    "    \n",
    "\n",
    "results = {}\n",
    "\n",
    "print (\"WinoBias\")\n",
    "print (\"----------\")\n",
    "results['winobias'] = calc_correlations([x[0] for x in winobias_stats], [x[1] for x in winobias_stats])\n",
    "print (\"**********\")\n",
    "#calc_correlations([x[0] for x in winobias_stats], [np.log((x[1]/100)/(1-(x[1]/100))) for x in winobias_stats])\n",
    "#print (\"**********\")\n",
    "#print ()\n",
    "print (\"U.S. Census Database\")\n",
    "#calc_correlations([x[0] for x in census_stats], [np.log(x[1]/(1-x[1])) for x in census_stats])\n",
    "#print (\"**********\")\n",
    "#print ()\n",
    "results['census'] = calc_correlations([x[0] for x in census_stats], [x[1] for x in census_stats])\n",
    "print (\"**********\")\n",
    "print ()\n",
    "\n",
    "\n"
   ]
  },
  {
   "cell_type": "code",
   "execution_count": null,
   "metadata": {},
   "outputs": [],
   "source": []
  },
  {
   "cell_type": "code",
   "execution_count": null,
   "metadata": {},
   "outputs": [],
   "source": []
  },
  {
   "cell_type": "markdown",
   "metadata": {},
   "source": [
    "### Borders and MinMax normalization"
   ]
  },
  {
   "cell_type": "markdown",
   "metadata": {},
   "source": [
    "#### neutral borders"
   ]
  },
  {
   "cell_type": "code",
   "execution_count": 73,
   "metadata": {},
   "outputs": [
    {
     "name": "stdout",
     "output_type": "stream",
     "text": [
      "recSG_1st_mean_bias_expectation 0.02670484 0.02670484\n"
     ]
    }
   ],
   "source": [
    "def get_1st_mean_bias_allwords(attribute_words):\n",
    "    ctx_vecs = []\n",
    "    for _word in attribute_words:\n",
    "        _idx = we_model.wv.vocab[_word].index\n",
    "        ctx_vecs.append(we_model.trainables.syn1neg[_idx])\n",
    "    ctx_vecs = np.array(ctx_vecs)    \n",
    "    \n",
    "    _vecs = we_model.wv.vectors\n",
    "    associations = scipy.special.expit(np.dot(_vecs, ctx_vecs.T))\n",
    "    associations_mean = np.mean(associations, axis=1)\n",
    "    \n",
    "    return associations_mean\n",
    "allwords_recSG_1st_mean_fem = get_1st_mean_bias_allwords([_tuple[0] for _tuple in genderword_tuples if _tuple[1] == 'f'])\n",
    "allwords_recSG_1st_mean_mas = get_1st_mean_bias_allwords([_tuple[0] for _tuple in genderword_tuples if _tuple[1] == 'm'])\n",
    "    \n",
    "_recSG_1st_mean_bias_expectation = np.mean(np.abs(allwords_recSG_1st_mean_fem - allwords_recSG_1st_mean_mas))\n",
    "\n",
    "recSG_1st_mean_bias_expectation_fem = _recSG_1st_mean_bias_expectation\n",
    "recSG_1st_mean_bias_expectation_mas = _recSG_1st_mean_bias_expectation\n",
    "\n",
    "print ('recSG_1st_mean_bias_expectation', recSG_1st_mean_bias_expectation_fem, recSG_1st_mean_bias_expectation_mas)\n"
   ]
  },
  {
   "cell_type": "code",
   "execution_count": 74,
   "metadata": {},
   "outputs": [
    {
     "name": "stdout",
     "output_type": "stream",
     "text": [
      "SG_2nd_mean_bias_expectation 0.031119734 0.031119734\n"
     ]
    }
   ],
   "source": [
    "def get_2nd_mean_bias_allwords(attribute_words):\n",
    "    vecs = np.array([we_model.wv[_w] for _w in attribute_words])\n",
    "    vec_centroid = np.mean(vecs, axis=0)\n",
    "    \n",
    "    vec_centroid_normalized = vec_centroid/np.linalg.norm(vec_centroid)\n",
    "    vecs_normalized_allwords = we_model.wv.vectors/np.linalg.norm(we_model.wv.vectors, axis=1).reshape(-1,1)\n",
    "    \n",
    "    associations_allwords = np.dot(vec_centroid_normalized, vecs_normalized_allwords.T)\n",
    "    \n",
    "    return associations_allwords\n",
    "\n",
    "allwords_SG_2nd_mean_fem = get_2nd_mean_bias_allwords([_tuple[0] for _tuple in genderword_tuples if _tuple[1] == 'f'])\n",
    "allwords_SG_2nd_mean_mas = get_2nd_mean_bias_allwords([_tuple[0] for _tuple in genderword_tuples if _tuple[1] == 'm'])\n",
    "    \n",
    "_SG_2nd_mean_bias_expectation = np.mean(np.abs(allwords_SG_2nd_mean_fem - allwords_SG_2nd_mean_mas))\n",
    "\n",
    "SG_2nd_mean_bias_expectation_fem = _SG_2nd_mean_bias_expectation\n",
    "SG_2nd_mean_bias_expectation_mas = _SG_2nd_mean_bias_expectation\n",
    "\n",
    "print ('SG_2nd_mean_bias_expectation', SG_2nd_mean_bias_expectation_fem, SG_2nd_mean_bias_expectation_mas)\n",
    "\n"
   ]
  },
  {
   "cell_type": "code",
   "execution_count": null,
   "metadata": {},
   "outputs": [],
   "source": []
  },
  {
   "cell_type": "code",
   "execution_count": 75,
   "metadata": {},
   "outputs": [
    {
     "name": "stdout",
     "output_type": "stream",
     "text": [
      "[2.6054634e-06] [0.55991477]\n",
      "recSG_1st_mean_bias_expectation 0.02670484 0.02670484\n",
      "recSG_1st_mean_bias_expectation_scaled 0.047690045 0.047690045\n"
     ]
    }
   ],
   "source": [
    "## scale to MinMax\n",
    "\n",
    "\n",
    "scaler = MinMaxScaler()\n",
    "scaler.fit(np.concatenate((allwords_recSG_1st_mean_fem, allwords_recSG_1st_mean_mas)).reshape(-1, 1))\n",
    "print(scaler.data_min_, scaler.data_max_)\n",
    "job_recSG_1st_mean_bias_scaled=[]\n",
    "for tpl in job_recSG_1st_mean_bias:\n",
    "    tpl2, tpl3 = scaler.transform(np.array([tpl[2],tpl[3]]).reshape(1, -1))[0]\n",
    "    job_recSG_1st_mean_bias_scaled.append((tpl[0], tpl2 - tpl3, tpl2, tpl3, tpl[4]))\n",
    "recSG_1st_mean_bias_expectation_fem_scaled, recSG_1st_mean_bias_expectation_mas_scaled = scaler.transform(np.array([recSG_1st_mean_bias_expectation_fem, recSG_1st_mean_bias_expectation_mas]).reshape(1, -1))[0]\n",
    "print ('recSG_1st_mean_bias_expectation', recSG_1st_mean_bias_expectation_fem, recSG_1st_mean_bias_expectation_mas)\n",
    "print ('recSG_1st_mean_bias_expectation_scaled', recSG_1st_mean_bias_expectation_fem_scaled, recSG_1st_mean_bias_expectation_mas_scaled)\n",
    "\n"
   ]
  },
  {
   "cell_type": "code",
   "execution_count": null,
   "metadata": {},
   "outputs": [],
   "source": []
  },
  {
   "cell_type": "code",
   "execution_count": 76,
   "metadata": {},
   "outputs": [
    {
     "name": "stdout",
     "output_type": "stream",
     "text": [
      "[0.00251519] [0.8702205]\n",
      "SG_2nd_mean_bias_expectation_scaled 0.031119734 0.031119734\n",
      "SG_2nd_mean_bias_expectation_scaled 0.03296574 0.03296574\n"
     ]
    }
   ],
   "source": [
    "\n",
    "scaler = MinMaxScaler()\n",
    "scaler.fit(np.concatenate((allwords_SG_2nd_mean_fem, allwords_SG_2nd_mean_mas)).reshape(-1, 1))\n",
    "print(scaler.data_min_, scaler.data_max_)\n",
    "job_SG_2nd_mean_bias_scaled=[]\n",
    "for tpl in job_SG_2nd_mean_bias:\n",
    "    tpl2, tpl3 = scaler.transform(np.array([tpl[2],tpl[3]]).reshape(1, -1))[0]\n",
    "    job_SG_2nd_mean_bias_scaled.append((tpl[0], tpl2 - tpl3, tpl2, tpl3, tpl[4]))\n",
    "SG_2nd_mean_bias_expectation_fem_scaled, SG_2nd_mean_bias_expectation_mas_scaled = scaler.transform(np.array([SG_2nd_mean_bias_expectation_fem, SG_2nd_mean_bias_expectation_mas]).reshape(1, -1))[0]\n",
    "print ('SG_2nd_mean_bias_expectation_scaled', SG_2nd_mean_bias_expectation_fem, SG_2nd_mean_bias_expectation_mas)\n",
    "print ('SG_2nd_mean_bias_expectation_scaled', SG_2nd_mean_bias_expectation_fem_scaled, SG_2nd_mean_bias_expectation_mas_scaled)\n"
   ]
  },
  {
   "cell_type": "markdown",
   "metadata": {},
   "source": [
    "## Plotting Time!"
   ]
  },
  {
   "cell_type": "code",
   "execution_count": 79,
   "metadata": {},
   "outputs": [
    {
     "data": {
      "image/png": "[encoded data removed]",
      "text/plain": [
       "<Figure size 576x432 with 1 Axes>"
      ]
     },
     "metadata": {
      "needs_background": "light"
     },
     "output_type": "display_data"
    }
   ],
   "source": [
    "\n",
    "fsize=17\n",
    "fsize2=15\n",
    "\n",
    "#colors=['#74c476','#31a354','#005a32','black']\n",
    "markers=['o','^','v','D']\n",
    "lss=['-','-.','--','-','-','-','-','-']\n",
    "\n",
    "_bias_expectation_fem = SG_2nd_mean_bias_expectation_fem_scaled #SG_2nd_cosine_bias_expectation_fem#_scaled\n",
    "_bias_expectation_mas = SG_2nd_mean_bias_expectation_mas_scaled #SG_2nd_cosine_bias_expectation_mas#_scaled\n",
    "_bias = job_SG_2nd_mean_bias_scaled #job_SG_2nd_cosine_bias_scaled\n",
    "\n",
    "X=[x[2] for x in _bias]\n",
    "Y=[x[3] for x in _bias]\n",
    "\n",
    "fig, ax= plt.subplots(nrows=1, ncols=1 , figsize=(8, 6))\n",
    "\n",
    "_color_unbiasedarea='#bdbdbd'\n",
    "_color_unbiasedborder='#737373'\n",
    "_color_unbiasedpnt='#636363'\n",
    "_color_biasedbad_female='#5e3c99'\n",
    "_color_biasedgood_female='#b2abd2'\n",
    "_color_biasedbad_male='#e66101'\n",
    "_color_biasedgood_male='#fdb863'\n",
    "\n",
    "_colors=[]\n",
    "for _tuple in [x for x in _bias]:\n",
    "    _isbiased=(_tuple[2]>_tuple[3] and _tuple[2]-_tuple[3]>_bias_expectation_fem) or (_tuple[2]<_tuple[3] and abs(_tuple[2]-_tuple[3])>abs(_bias_expectation_mas))\n",
    "    if _isbiased:\n",
    "        if _tuple[2]>_tuple[3]: #female\n",
    "            if _tuple[4]=='n':\n",
    "                _colors.append(_color_biasedbad_female)\n",
    "            else:\n",
    "                _colors.append(_color_biasedgood_female)\n",
    "        else:\n",
    "            if _tuple[4]=='n':\n",
    "                _colors.append(_color_biasedbad_male)\n",
    "            else:\n",
    "                _colors.append(_color_biasedgood_male)\n",
    "    else:\n",
    "        if _tuple[4]=='n':\n",
    "            _colors.append(_color_unbiasedpnt)\n",
    "        elif _tuple[4]=='m':\n",
    "            _colors.append(_color_biasedgood_male)\n",
    "        elif _tuple[4]=='f':\n",
    "            _colors.append(_color_biasedgood_female)\n",
    "\n",
    "\n",
    "\n",
    "#max_x=0.93\n",
    "#max_y=0.7\n",
    "max_x=0.9\n",
    "max_y=0.67\n",
    "\n",
    "\n",
    "\n",
    "    \n",
    "ax.scatter(X, Y, c=_colors, s=100, alpha=1.0)\n",
    "\n",
    "for i, _item in enumerate(_bias):\n",
    "    _lbl=_item[0]\n",
    "    if _lbl in ['homemaker', 'waitress', 'hairdresses', 'bookmaker',\n",
    "                'nurse','sportsman','',\n",
    "                'repairer','','housekeeper','manicurist',\n",
    "                'congresswoman','chairwoman','','','',\n",
    "                '','actress','','']:\n",
    "    #if _lbl in ['', 'waitress', 'hairdresses', '',\n",
    "    #            '','','',\n",
    "    #            'nanny','mistress','','',\n",
    "    #            '','nanny','','','',\n",
    "    #            '','actress','ballerina','sportsman']:\n",
    "        #_lbl=_lbl[:1].upper()+_lbl[1:]\n",
    "        if _lbl in ['housekeeper']:\n",
    "            ax.annotate(_lbl, (X[i]-0.1,Y[i]-0.02), fontsize=fsize2)\n",
    "        #elif _lbl in ['Physician']:\n",
    "        #    ax.annotate(_lbl, (X[i],Y[i]-0.011), fontsize=fsize2)\n",
    "        else:\n",
    "            ax.annotate(_lbl, (X[i]+0.01,Y[i]), fontsize=fsize2)\n",
    "    #ax.annotate(_lbl, (X[i]+0.005,Y[i]+0.002), fontsize=fsize2)\n",
    "\n",
    "\n",
    "ax.plot((0, max_y), (0, max_y), c=_color_unbiasedborder, ls='-.', lw=2)\n",
    "ax.plot((0, max_y+0.01), (abs(_bias_expectation_mas), max_y+abs(_bias_expectation_mas)+0.01), c=_color_unbiasedborder, ls='--', lw=3)\n",
    "ax.plot((_bias_expectation_fem, max_y+_bias_expectation_fem), (0, max_y), c=_color_unbiasedborder, ls='--', lw=3)\n",
    "\n",
    "ax.fill_between([0,max_y+0.04], \n",
    "                [abs(_bias_expectation_mas), max_y+abs(_bias_expectation_mas)+0.04],\n",
    "                [-abs(_bias_expectation_fem), max_y-abs(_bias_expectation_fem)+0.04],\n",
    "                facecolor=_color_unbiasedarea, alpha=0.3, interpolate=True)\n",
    "\n",
    "\n",
    "ax.tick_params(axis='both', which='major', labelsize=fsize)\n",
    "ax.set_xlabel('Association to Female', fontsize=fsize)\n",
    "ax.set_ylabel('Association to Male', fontsize=fsize)\n",
    "ax.set_xlim(0, max_x)\n",
    "ax.set_ylim(0, max_y)\n",
    "ax.grid(True)\n",
    "\n",
    "fig.tight_layout()\n",
    "plt.show()\n",
    "fig.set_size_inches(8, 6)\n",
    "fig.savefig('plots/job_SG_2nd_mean_bias.pdf', dpi=100, transparent=True, bbox_inches='tight', pad_inches=0)\n",
    "\n",
    "\n",
    "\n"
   ]
  },
  {
   "cell_type": "code",
   "execution_count": null,
   "metadata": {},
   "outputs": [],
   "source": []
  },
  {
   "cell_type": "code",
   "execution_count": 80,
   "metadata": {},
   "outputs": [
    {
     "data": {
      "image/png": "[encoded data removed]",
      "text/plain": [
       "<Figure size 576x432 with 1 Axes>"
      ]
     },
     "metadata": {
      "needs_background": "light"
     },
     "output_type": "display_data"
    }
   ],
   "source": [
    "\n",
    "\n",
    "fsize=17\n",
    "fsize2=15\n",
    "\n",
    "#colors=['#74c476','#31a354','#005a32','black']\n",
    "markers=['o','^','v','D']\n",
    "lss=['-','-.','--','-','-','-','-','-']\n",
    "\n",
    "_bias_expectation_fem = recSG_1st_mean_bias_expectation_fem_scaled\n",
    "_bias_expectation_mas = recSG_1st_mean_bias_expectation_mas_scaled\n",
    "_bias = job_recSG_1st_mean_bias_scaled\n",
    "#_bias_expectation_fem = exp_bias_expectation_fem_scaled\n",
    "#_bias_expectation_mas = exp_bias_expectation_mas_scaled\n",
    "#_bias = job_exp_bias_scaled\n",
    "\n",
    "\n",
    "\n",
    "X=[x[2] for x in _bias]\n",
    "Y=[x[3] for x in _bias]\n",
    "\n",
    "fig, ax= plt.subplots(nrows=1, ncols=1 , figsize=(8, 6))\n",
    "\n",
    "_color_unbiasedarea='#bdbdbd'\n",
    "_color_unbiasedborder='#737373'\n",
    "_color_unbiasedpnt='#636363'\n",
    "_color_biasedbad_female='#5e3c99'\n",
    "_color_biasedgood_female='#b2abd2'\n",
    "_color_biasedbad_male='#e66101'\n",
    "_color_biasedgood_male='#fdb863'\n",
    "\n",
    "\n",
    "\n",
    "_colors=[]\n",
    "for _tuple in [x for x in _bias]:\n",
    "    _isbiased=(_tuple[2]>_tuple[3] and _tuple[2]-_tuple[3]>_bias_expectation_fem) or (_tuple[2]<_tuple[3] and abs(_tuple[2]-_tuple[3])>abs(_bias_expectation_mas))\n",
    "    if _isbiased:\n",
    "        if _tuple[2]>_tuple[3]: #female\n",
    "            if _tuple[4]=='n':\n",
    "                _colors.append(_color_biasedbad_female)\n",
    "            else:\n",
    "                _colors.append(_color_biasedgood_female)\n",
    "        else:\n",
    "            if _tuple[4]=='n':\n",
    "                _colors.append(_color_biasedbad_male)\n",
    "            else:\n",
    "                _colors.append(_color_biasedgood_male)\n",
    "    else:\n",
    "        if _tuple[4]=='n':\n",
    "            _colors.append(_color_unbiasedpnt)\n",
    "        elif _tuple[4]=='m':\n",
    "            _colors.append(_color_biasedgood_male)\n",
    "        elif _tuple[4]=='f':\n",
    "            _colors.append(_color_biasedgood_female)\n",
    "\n",
    "\n",
    "\n",
    "#max_x=0.93\n",
    "#max_y=0.7\n",
    "max_x=0.9\n",
    "max_y=0.67\n",
    "\n",
    "\n",
    "\n",
    "\n",
    "    \n",
    "ax.scatter(X, Y, c=_colors, s=100, alpha=1.0)\n",
    "\n",
    "for i, _item in enumerate(_bias):\n",
    "    _lbl=_item[0]\n",
    "    if _lbl in ['homemaker', 'bookmaker', 'hairdresses', '',\n",
    "                'tailor','dressmaker','nurse',\n",
    "                '','','','manicurist',\n",
    "                'dancer','','beautician','','',\n",
    "                '','actress','','sportsman']:\n",
    "        #_lbl=_lbl[:1].upper()+_lbl[1:]\n",
    "        if _lbl in ['dressmaker','beautician','homemaker','manicurist']:\n",
    "            ax.annotate(_lbl, (X[i]-0.13,Y[i]+0.011), fontsize=fsize2)\n",
    "        else:\n",
    "            ax.annotate(_lbl, (X[i]+0.005,Y[i]), fontsize=fsize2)\n",
    "    #ax.annotate(_lbl, (X[i]+0.005,Y[i]+0.002), fontsize=fsize2)\n",
    "    \n",
    "ax.plot((0, max_y), (0, max_y), c=_color_unbiasedborder, ls='-.', lw=2)\n",
    "ax.plot((0, max_y+0.01), (abs(_bias_expectation_mas), max_y+abs(_bias_expectation_mas)+0.01), c=_color_unbiasedborder, ls='--', lw=3)\n",
    "ax.plot((_bias_expectation_fem, max_y+_bias_expectation_fem), (0, max_y), c=_color_unbiasedborder, ls='--', lw=3)\n",
    "ax.fill_between([0,max_y+0.04], \n",
    "                [abs(_bias_expectation_mas), max_y+abs(_bias_expectation_mas)+0.04],\n",
    "                [-abs(_bias_expectation_fem), max_y-abs(_bias_expectation_fem)+0.04],\n",
    "                facecolor=_color_unbiasedarea, alpha=0.3, interpolate=True)\n",
    "\n",
    "ax.tick_params(axis='both', which='major', labelsize=fsize)\n",
    "ax.set_xlabel('Association to Female', fontsize=fsize)\n",
    "ax.set_ylabel('Association to Male', fontsize=fsize)\n",
    "ax.set_xlim(0.0, max_x)\n",
    "ax.set_ylim(0.0, max_y)\n",
    "ax.grid(True)\n",
    "\n",
    "fig.tight_layout()\n",
    "plt.show()\n",
    "fig.set_size_inches(8, 6)\n",
    "fig.savefig('plots/job_recSG_1st_mean_bias_scaled.pdf', dpi=100, transparent=True, bbox_inches='tight', pad_inches=0)\n",
    "\n",
    "\n",
    "\n",
    "\n"
   ]
  },
  {
   "cell_type": "code",
   "execution_count": null,
   "metadata": {
    "scrolled": false
   },
   "outputs": [],
   "source": []
  },
  {
   "cell_type": "code",
   "execution_count": 86,
   "metadata": {},
   "outputs": [
    {
     "name": "stdout",
     "output_type": "stream",
     "text": [
      "-0.11370456807158208 0.16220614000802047\n"
     ]
    },
    {
     "data": {
      "image/png": "[encoded data removed]",
      "text/plain": [
       "<Figure size 576x432 with 1 Axes>"
      ]
     },
     "metadata": {
      "needs_background": "light"
     },
     "output_type": "display_data"
    }
   ],
   "source": [
    "\n",
    "fsize=32\n",
    "fsize2=18\n",
    "\n",
    "#colors=['#74c476','#31a354','#005a32','black']\n",
    "markers=['o','^','v','D']\n",
    "lss=['-','-.','--','-','-','-','-','-']\n",
    "\n",
    "_bias_expectation_fem = SG_2nd_mean_bias_expectation_fem_scaled\n",
    "_bias_expectation_mas = SG_2nd_mean_bias_expectation_mas_scaled\n",
    "_bias = job_SG_2nd_mean_bias_scaled\n",
    "\n",
    "fig, ax= plt.subplots(nrows=1, ncols=1 , figsize=(8, 6))\n",
    "\n",
    "_color_unbiasedarea='#bdbdbd'\n",
    "_color_unbiasedborder='#737373'\n",
    "_color_unbiasedpnt='#636363'\n",
    "_color_biasedgood='blue'#'#bae4b3'\n",
    "_color_biasedbad='#de2d26'\n",
    "_color_biasedbad_female='#5e3c99'\n",
    "_color_biasedgood_female='#b2abd2'\n",
    "_color_biasedbad_male='#e66101'\n",
    "_color_biasedgood_male='#fdb863'\n",
    "\n",
    "\n",
    "\n",
    "hist_colors = [_color_biasedgood_female, _color_biasedbad_female, _color_biasedgood_male, _color_biasedbad_male, _color_unbiasedpnt]\n",
    "X=[[], [], [], [], []]\n",
    "for _tuple in [x for x in _bias]:\n",
    "    _isbiased=(_tuple[2]>_tuple[3] and _tuple[2]-_tuple[3]>_bias_expectation_fem) or (_tuple[2]<_tuple[3] and abs(_tuple[2]-_tuple[3])>abs(_bias_expectation_mas))\n",
    "    if _isbiased:\n",
    "        if _tuple[2]>_tuple[3]: #female\n",
    "            if _tuple[4]=='n':\n",
    "                X[1].append(_tuple[1])\n",
    "            else:\n",
    "                X[0].append(_tuple[1])\n",
    "        else: # male\n",
    "            if _tuple[4]=='n':\n",
    "                X[3].append(_tuple[1])\n",
    "            else:\n",
    "                X[2].append(_tuple[1])\n",
    "    else:\n",
    "        if _tuple[4]=='n':\n",
    "            X[4].append(_tuple[1])\n",
    "        elif _tuple[4]=='f':\n",
    "            X[0].append(_tuple[1])\n",
    "        elif _tuple[4]=='m':\n",
    "            X[2].append(_tuple[1])\n",
    "        \n",
    "\n",
    "min_x=-0.2\n",
    "max_x=0.44\n",
    "max_y=180\n",
    "\n",
    "print(np.min(np.min(X)), np.max(np.max(X)))\n",
    "\n",
    "\n",
    "bins = list(np.arange(0, min_x, -_bias_expectation_fem)[::-1]) + list(np.arange(0, 0.47, _bias_expectation_fem))\n",
    "ax.hist(X, bins=bins, histtype='bar', stacked=True, color=hist_colors)\n",
    "\n",
    "ax.tick_params(which='major', labelsize=fsize)\n",
    "ax.set_xlabel('Male     Gender Bias     Female', fontsize=fsize)\n",
    "ax.set_xlim(min_x, max_x)\n",
    "ax.set_ylim(0, max_y)\n",
    "plt.gca().xaxis.grid(True)\n",
    "\n",
    "fig.tight_layout()\n",
    "plt.show()\n",
    "fig.set_size_inches(8, 6)\n",
    "fig.savefig('plots/job_SG_2nd_mean_bias_histogram.pdf', dpi=100, transparent=True, bbox_inches='tight', pad_inches=0)\n",
    "\n",
    "\n"
   ]
  },
  {
   "cell_type": "code",
   "execution_count": null,
   "metadata": {},
   "outputs": [],
   "source": []
  },
  {
   "cell_type": "code",
   "execution_count": 87,
   "metadata": {},
   "outputs": [
    {
     "name": "stdout",
     "output_type": "stream",
     "text": [
      "-0.17218194167009163 0.5020604301376428\n"
     ]
    },
    {
     "data": {
      "image/png": "[encoded data removed]",
      "text/plain": [
       "<Figure size 576x432 with 1 Axes>"
      ]
     },
     "metadata": {
      "needs_background": "light"
     },
     "output_type": "display_data"
    }
   ],
   "source": [
    "\n",
    "fsize=32\n",
    "fsize2=24\n",
    "\n",
    "#colors=['#74c476','#31a354','#005a32','black']\n",
    "markers=['o','^','v','D']\n",
    "lss=['-','-.','--','-','-','-','-','-']\n",
    "\n",
    "_bias_expectation_fem = recSG_1st_mean_bias_expectation_fem_scaled\n",
    "_bias_expectation_mas = recSG_1st_mean_bias_expectation_mas_scaled\n",
    "_bias = job_recSG_1st_mean_bias_scaled\n",
    "\n",
    "\n",
    "fig, ax= plt.subplots(nrows=1, ncols=1 , figsize=(8, 6))\n",
    "\n",
    "\n",
    "_color_unbiasedarea='#bdbdbd'\n",
    "_color_unbiasedborder='#737373'\n",
    "_color_unbiasedpnt='#636363'\n",
    "_color_biasedbad_female='#5e3c99'\n",
    "_color_biasedgood_female='#b2abd2'\n",
    "_color_biasedbad_male='#e66101'\n",
    "_color_biasedgood_male='#fdb863'\n",
    "\n",
    "\n",
    "\n",
    "hist_colors = [_color_biasedgood_female, _color_biasedbad_female, _color_biasedgood_male, _color_biasedbad_male, _color_unbiasedpnt]\n",
    "X=[[], [], [], [], []]\n",
    "for _tuple in [x for x in _bias]:\n",
    "    _isbiased=(_tuple[2]>_tuple[3] and _tuple[2]-_tuple[3]>_bias_expectation_fem) or (_tuple[2]<_tuple[3] and abs(_tuple[2]-_tuple[3])>abs(_bias_expectation_mas))\n",
    "    if _isbiased:\n",
    "        if _tuple[2]>_tuple[3]: #female\n",
    "            if _tuple[4]=='n':\n",
    "                X[1].append(_tuple[1])\n",
    "            else:\n",
    "                X[0].append(_tuple[1])\n",
    "        else: # male\n",
    "            if _tuple[4]=='n':\n",
    "                X[3].append(_tuple[1])\n",
    "            else:\n",
    "                X[2].append(_tuple[1])\n",
    "    else:\n",
    "        if _tuple[4]=='n':\n",
    "            X[4].append(_tuple[1])\n",
    "        elif _tuple[4]=='f':\n",
    "            X[0].append(_tuple[1])\n",
    "        elif _tuple[4]=='m':\n",
    "            X[2].append(_tuple[1])\n",
    "\n",
    "\n",
    "#-0.21697625304746915 0.4459305321100774\n",
    "min_x=-0.2\n",
    "max_x=0.44\n",
    "max_y=180\n",
    "\n",
    "print(np.min(np.min(X)), np.max(np.max(X)))\n",
    "bins = list(np.arange(0, min_x, -_bias_expectation_fem)[::-1]) + list(np.arange(0, 0.47, _bias_expectation_fem))\n",
    "ax.hist(X, bins=bins, histtype='bar', stacked=True, color=hist_colors)\n",
    "\n",
    "ax.tick_params(which='major', labelsize=fsize)\n",
    "ax.set_xlabel('Male     Gender Bias     Female', fontsize=fsize)\n",
    "ax.set_xlim(min_x, max_x)\n",
    "ax.set_ylim(0, max_y)\n",
    "plt.gca().xaxis.grid(True)\n",
    "\n",
    "fig.tight_layout()\n",
    "plt.show()\n",
    "fig.set_size_inches(8, 6)\n",
    "fig.savefig('plots/job_recSG_1st_mean_bias_scaled_histogram.pdf', dpi=100, transparent=True, bbox_inches='tight', pad_inches=0)\n",
    "\n",
    "\n"
   ]
  },
  {
   "cell_type": "code",
   "execution_count": null,
   "metadata": {},
   "outputs": [],
   "source": []
  },
  {
   "cell_type": "markdown",
   "metadata": {},
   "source": [
    "### Analysis of Bias"
   ]
  },
  {
   "cell_type": "code",
   "execution_count": null,
   "metadata": {},
   "outputs": [],
   "source": [
    "_bias_expectation_fem = recSG_1st_mean_bias_expectation_fem_scaled\n",
    "_bias_expectation_mas = recSG_1st_mean_bias_expectation_mas_scaled\n",
    "_bias = job_recSG_1st_mean_bias_scaled\n",
    "\n",
    "\n",
    "_lst = [x for x in _bias if x[4]=='m' and x[1]>0 and abs(x[1])>abs(_bias_expectation_mas)]\n",
    "_lst.sort(key=lambda x: x[1])\n",
    "print (len(_lst))\n",
    "print ([x[0] for x in _lst][:82])\n",
    "\n",
    "_lst = [x for x in _bias if x[4]=='f' and x[1]<0 and abs(x[1])>abs(_bias_expectation_fem)]\n",
    "_lst.sort(key=lambda x: x[1], reverse = True)\n",
    "print (len(_lst))\n",
    "print ([x[0] for x in _lst])\n",
    "\n",
    "_bias_expectation_fem = SG_2nd_mean_bias_expectation_fem_scaled\n",
    "_bias_expectation_mas = SG_2nd_mean_bias_expectation_mas_scaled\n",
    "_bias = job_SG_2nd_mean_bias_scaled\n",
    "\n",
    "_lst = [x for x in _bias if x[4]=='m' and x[1]>0 and abs(x[1])>abs(_bias_expectation_mas)]\n",
    "_lst.sort(key=lambda x: x[1])\n",
    "print (len(_lst))\n",
    "print ([x[0] for x in _lst][:82])\n",
    "\n",
    "_lst = [x for x in _bias if x[4]=='f' and x[1]<0 and abs(x[1])>abs(_bias_expectation_fem)]\n",
    "_lst.sort(key=lambda x: x[1], reverse = True)\n",
    "print (len(_lst))\n",
    "print ([x[0] for x in _lst])\n",
    "\n",
    "\n"
   ]
  },
  {
   "cell_type": "code",
   "execution_count": null,
   "metadata": {},
   "outputs": [],
   "source": []
  },
  {
   "cell_type": "code",
   "execution_count": null,
   "metadata": {},
   "outputs": [],
   "source": [
    "job_SG_2nd_mean_bias.sort(key=lambda x:x[1])\n",
    "print ([(x[0], x[4]) for x in job_SG_2nd_mean_bias if x[4]=='n'][:5])\n",
    "print ([(x[0], x[4]) for x in job_SG_2nd_mean_bias[::-1] if x[4]=='n'][:5])\n"
   ]
  },
  {
   "cell_type": "markdown",
   "metadata": {},
   "source": [
    "#### the most important context words contributing to bias\n",
    "\n"
   ]
  },
  {
   "cell_type": "code",
   "execution_count": 89,
   "metadata": {},
   "outputs": [
    {
     "name": "stdout",
     "output_type": "stream",
     "text": [
      "captain\n",
      "['amelia', 'matron', 'eliza', 'nurse', 'gwendoline', 'louisa', 'wrns', 'henrietta', 'georgiana', 'emma']\n",
      "['commanded', 'capt', 'quartermaster', 'enlisted', 'hugh', 'mcgugin', 'captain', 'sergeant', 'colonel', 'fusiliers']\n",
      "\n",
      "colonel\n",
      "['matron', 'nurse', 'nursing', 'louisa', 'louise', 'alexandra', 'amelia', 'edith', 'evelyn', 'frances']\n",
      "['commanded', 'hugh', 'ernest', 'guards', 'quartermaster', 'colonel', 'reginald', 'capt', 'sergeant', 'enlisted']\n",
      "\n",
      "mechanician\n",
      "['aleksandrovna', 'ivanovna', 'vladimirovna', 'winifred', 'evna', 'nurse', 'marjorie', 'embroiderer', 'wrns', 'dorothy']\n",
      "['apprenticed', 'cyril', 'ernest', 'messrs', 'surveyor', 'ivanovich', 'alfred', 'watchmaker', 'draughtsman', 'fitter']\n",
      "\n",
      "manicurist\n",
      "['businesswoman', 'nurse', 'filipina', 'seamstress', 'matron', 'maid', 'housewife', 'midwife', 'hostess', 'waitress']\n",
      "['salesman', 'mechanic', 'roofer', 'electrician', 'enlisted', 'shoeshine', 'locksmith', 'butcher', 'foreman', 'plasterer']\n",
      "\n",
      "midwife\n",
      "['midwife', 'nurse', 'feminist', 'matron', 'suffragist', 'nursing', 'maternity', 'filipina', 'businesswoman', 'seamstress']\n",
      "['apprenticed', 'publican', 'maccormac', 'bricklayer', 'articled', 'grandfather', 'surgeon', 'clerk', 'preacher', 'butcher']\n",
      "\n",
      "nurse\n",
      "['midwife', 'nurse', 'matron', 'nursing', 'filipina', 'maternity', 'nurses', 'midwives', 'businesswoman', 'suffragist']\n",
      "['enlisted', 'surgeon', 'sergeant', 'apprenticed', 'electrician', 'clerk', 'reg', 'wounded', 'fitter', 'storekeeper']\n",
      "\n"
     ]
    }
   ],
   "source": [
    "#the most important context words contributing to bias using 2nd_mean on rec vectors\n",
    "\n",
    "#[('captain', 'n'), ('colonel', 'n'), ('mechanician', 'n'), ('lieutenant', 'n'), ('engineer', 'n')]\n",
    "#[('manicurist', 'n'), ('midwife', 'n'), ('nurse', 'n'), ('socialite', 'n'), ('housekeeper', 'n')]\n",
    "\n",
    "for _job in ['captain','colonel','mechanician','manicurist','midwife','nurse']:#['ceo','nurse','physician','housekeeper','surgeon','dancer','manager','laborer']:\n",
    "    _vec = job_recSG_vecs[_job]\n",
    "    \n",
    "    _fem_recSG_mean = np.zeros(len(_vec))\n",
    "    for _rec_vec in fem_recSG_vecs:\n",
    "        _fem_recSG_mean += (_vec/LA.norm(_vec)) * (_rec_vec/LA.norm(_rec_vec))\n",
    "    _fem_recSG_mean /= len(fem_recSG_vecs)\n",
    "\n",
    "    _masc_recSG_mean = np.zeros(len(_vec))\n",
    "    for _rec_vec in masc_recSG_vecs:\n",
    "        _masc_recSG_mean += (_vec/LA.norm(_vec)) * (_rec_vec/LA.norm(_rec_vec))\n",
    "    _masc_recSG_mean /= len(masc_recSG_vecs)\n",
    "    \n",
    "    _bias_recSG_mean = _fem_recSG_mean - _masc_recSG_mean\n",
    "    \n",
    "    _mult = list(zip((_bias_recSG_mean), we_model.wv.index2word))\n",
    "    \n",
    "    _mult.sort(key=lambda x:x[0], reverse=True)\n",
    "    print (_job)\n",
    "    print ([x[1] for x in _mult][:10])\n",
    "    print ([x[1] for x in _mult][::-1][:10])\n",
    "    print ()\n",
    "\n",
    "\n",
    "#masc_recSG_vecs = []\n",
    "\n",
    "\n",
    "\n"
   ]
  },
  {
   "cell_type": "code",
   "execution_count": null,
   "metadata": {},
   "outputs": [],
   "source": []
  },
  {
   "cell_type": "code",
   "execution_count": null,
   "metadata": {},
   "outputs": [],
   "source": []
  },
  {
   "cell_type": "code",
   "execution_count": null,
   "metadata": {},
   "outputs": [],
   "source": []
  },
  {
   "cell_type": "code",
   "execution_count": null,
   "metadata": {
    "scrolled": false
   },
   "outputs": [],
   "source": [
    "\n",
    "fem_recSG_centroid_vec = scipy.special.expit(np.dot(we_model.trainables.syn1neg, fem_SG_centroid_vec))\n",
    "masc_recSG_centroid_vec = scipy.special.expit(np.dot(we_model.trainables.syn1neg, masc_SG_centroid_vec))\n",
    "\n",
    "\n",
    "for _job in ['captain','colonel','mechanician','manicurist','midwife','nurse']:#['ceo','nurse','physician','housekeeper','surgeon','dancer','manager','laborer']:\n",
    "    print (_job)\n",
    "    _vec = job_recSG_vecs[_job]\n",
    "    \n",
    "    _mult_fem = (_vec/LA.norm(_vec)) * (fem_recSG_centroid_vec/LA.norm(fem_recSG_centroid_vec))\n",
    "    _mult_masc = (_vec/LA.norm(_vec)) * (masc_recSG_centroid_vec/LA.norm(masc_recSG_centroid_vec))\n",
    "    \n",
    "    _mult_bias = _mult_fem - _mult_masc\n",
    "    _mult = list(zip(np.abs(_mult_bias), we_model.wv.index2word))\n",
    "    \n",
    "    _mult.sort(key=lambda x:x[0], reverse=True)\n",
    "    print ([x[1] for x in _mult][:10])\n",
    "    print ()\n",
    "    #print (_mult[::-1][:10])\n",
    "    #print ()\n",
    "    #print ()\n",
    "\n",
    "    "
   ]
  },
  {
   "cell_type": "code",
   "execution_count": null,
   "metadata": {
    "scrolled": false
   },
   "outputs": [],
   "source": []
  },
  {
   "cell_type": "code",
   "execution_count": null,
   "metadata": {},
   "outputs": [],
   "source": []
  }
 ],
 "metadata": {
  "kernelspec": {
   "display_name": "Python 3",
   "language": "python",
   "name": "python3"
  },
  "language_info": {
   "codemirror_mode": {
    "name": "ipython",
    "version": 3
   },
   "file_extension": ".py",
   "mimetype": "text/x-python",
   "name": "python",
   "nbconvert_exporter": "python",
   "pygments_lexer": "ipython3",
   "version": "3.7.4"
  }
 },
 "nbformat": 4,
 "nbformat_minor": 1
}
